{
 "cells": [
  {
   "cell_type": "markdown",
   "id": "42250a8d",
   "metadata": {
    "papermill": {
     "duration": 0.006317,
     "end_time": "2025-10-06T17:02:32.737346",
     "exception": false,
     "start_time": "2025-10-06T17:02:32.731029",
     "status": "completed"
    },
    "tags": []
   },
   "source": [
    "# Stage 7: Modeling — Proxy Risk Classifier (Q1 2022)\n",
    "\n",
    "This notebook trains and evaluates a proxy risk classifier using acquisition-time features only.\n",
    "\n",
    "**Proxy target (`high_risk_proxy`)**  \n",
    "1 if any of: `BORR_CREDIT_SCORE < 660` OR `DTI > 45` OR `ORIG_LTV > 90`; else 0.  \n",
    "(The proxy was created on RAW values in the prep notebook, then carried forward.)\n",
    "\n",
    "I’ll:\n",
    "- Load the **model-ready** dataset (encoded + scaled).\n",
    "- Define X/y and perform a stratified split.\n",
    "- Train Logistic Regression, Random Forest, and XGBoost.\n",
    "- Evaluate with Precision, Recall, F1, ROC-AUC; tune threshold via PR curve.\n",
    "- Save best model and predictions for downstream use.\n"
   ]
  },
  {
   "cell_type": "code",
   "execution_count": 1,
   "id": "dddb9a3a",
   "metadata": {
    "execution": {
     "iopub.execute_input": "2025-10-06T17:02:32.749809Z",
     "iopub.status.busy": "2025-10-06T17:02:32.749411Z",
     "iopub.status.idle": "2025-10-06T17:02:37.142175Z",
     "shell.execute_reply": "2025-10-06T17:02:37.141225Z"
    },
    "papermill": {
     "duration": 4.400312,
     "end_time": "2025-10-06T17:02:37.143602",
     "exception": false,
     "start_time": "2025-10-06T17:02:32.743290",
     "status": "completed"
    },
    "tags": []
   },
   "outputs": [
    {
     "data": {
      "text/plain": [
       "'/kaggle/input/fannie-q1-2022-model-ready/fannie_q1_2022_model_ready.csv'"
      ]
     },
     "execution_count": 1,
     "metadata": {},
     "output_type": "execute_result"
    }
   ],
   "source": [
    "import os\n",
    "import numpy as np\n",
    "import pandas as pd\n",
    "import matplotlib.pyplot as plt\n",
    "import seaborn as sns\n",
    "\n",
    "from sklearn.model_selection import train_test_split, StratifiedKFold, cross_val_score\n",
    "from sklearn.linear_model import LogisticRegression\n",
    "from sklearn.ensemble import RandomForestClassifier\n",
    "from sklearn.metrics import (\n",
    "    classification_report, confusion_matrix, roc_auc_score, roc_curve,\n",
    "    precision_recall_curve, accuracy_score\n",
    ")\n",
    "\n",
    "\n",
    "from xgboost import XGBClassifier\n",
    "\n",
    "pd.set_option('display.max_columns', None)\n",
    "\n",
    "# I prefer the model-ready artifact\n",
    "MODEL_READY_CANDIDATES = [\n",
    "    \"/kaggle/input/fannie-q1-2022-model-ready/fannie_q1_2022_model_ready.csv\",  \n",
    "]\n",
    "\n",
    "def first_existing_path(paths):\n",
    "    for p in paths:\n",
    "        if os.path.exists(p):\n",
    "            return p\n",
    "    raise FileNotFoundError(\"Model-ready CSV not found in expected locations.\")\n",
    "\n",
    "DATA_PATH = first_existing_path(MODEL_READY_CANDIDATES)\n",
    "OUTPUT_DIR = \"/kaggle/working\"\n",
    "os.makedirs(OUTPUT_DIR, exist_ok=True)\n",
    "\n",
    "DATA_PATH\n"
   ]
  },
  {
   "cell_type": "markdown",
   "id": "c7c674f4",
   "metadata": {
    "papermill": {
     "duration": 0.00499,
     "end_time": "2025-10-06T17:02:37.153853",
     "exception": false,
     "start_time": "2025-10-06T17:02:37.148863",
     "status": "completed"
    },
    "tags": []
   },
   "source": [
    "#### Load Dataset and sanity checks"
   ]
  },
  {
   "cell_type": "code",
   "execution_count": 2,
   "id": "2b6d3c6d",
   "metadata": {
    "execution": {
     "iopub.execute_input": "2025-10-06T17:02:37.165207Z",
     "iopub.status.busy": "2025-10-06T17:02:37.164751Z",
     "iopub.status.idle": "2025-10-06T17:02:37.428547Z",
     "shell.execute_reply": "2025-10-06T17:02:37.427689Z"
    },
    "papermill": {
     "duration": 0.271317,
     "end_time": "2025-10-06T17:02:37.430095",
     "exception": false,
     "start_time": "2025-10-06T17:02:37.158778",
     "status": "completed"
    },
    "tags": []
   },
   "outputs": [
    {
     "name": "stdout",
     "output_type": "stream",
     "text": [
      "Loaded: /kaggle/input/fannie-q1-2022-model-ready/fannie_q1_2022_model_ready.csv\n",
      "Shape: (11196, 76)\n"
     ]
    },
    {
     "data": {
      "text/html": [
       "<div>\n",
       "<style scoped>\n",
       "    .dataframe tbody tr th:only-of-type {\n",
       "        vertical-align: middle;\n",
       "    }\n",
       "\n",
       "    .dataframe tbody tr th {\n",
       "        vertical-align: top;\n",
       "    }\n",
       "\n",
       "    .dataframe thead th {\n",
       "        text-align: right;\n",
       "    }\n",
       "</style>\n",
       "<table border=\"1\" class=\"dataframe\">\n",
       "  <thead>\n",
       "    <tr style=\"text-align: right;\">\n",
       "      <th></th>\n",
       "      <th>ORIG_INTEREST_RATE</th>\n",
       "      <th>ORIG_UPB</th>\n",
       "      <th>ORIG_LOAN_TERM</th>\n",
       "      <th>ORIG_LTV</th>\n",
       "      <th>ORIG_CLTV</th>\n",
       "      <th>DTI</th>\n",
       "      <th>BORR_CREDIT_SCORE</th>\n",
       "      <th>CO_BORR_CREDIT_SCORE</th>\n",
       "      <th>NUM_BORROWERS</th>\n",
       "      <th>FIRST_TIME_HB_FLAG</th>\n",
       "      <th>NUM_UNITS</th>\n",
       "      <th>AMORTIZATION_TYPE</th>\n",
       "      <th>default_12m</th>\n",
       "      <th>CO_BORR_PRESENT</th>\n",
       "      <th>LOAN_PURPOSE_P</th>\n",
       "      <th>LOAN_PURPOSE_R</th>\n",
       "      <th>PROPERTY_TYPE_CP</th>\n",
       "      <th>PROPERTY_TYPE_MH</th>\n",
       "      <th>PROPERTY_TYPE_PU</th>\n",
       "      <th>PROPERTY_TYPE_SF</th>\n",
       "      <th>OCCUPANCY_STATUS_P</th>\n",
       "      <th>OCCUPANCY_STATUS_S</th>\n",
       "      <th>PROPERTY_STATE_AL</th>\n",
       "      <th>PROPERTY_STATE_AR</th>\n",
       "      <th>PROPERTY_STATE_AZ</th>\n",
       "      <th>PROPERTY_STATE_CA</th>\n",
       "      <th>PROPERTY_STATE_CO</th>\n",
       "      <th>PROPERTY_STATE_CT</th>\n",
       "      <th>PROPERTY_STATE_DC</th>\n",
       "      <th>PROPERTY_STATE_DE</th>\n",
       "      <th>PROPERTY_STATE_FL</th>\n",
       "      <th>PROPERTY_STATE_GA</th>\n",
       "      <th>PROPERTY_STATE_HI</th>\n",
       "      <th>PROPERTY_STATE_IA</th>\n",
       "      <th>PROPERTY_STATE_ID</th>\n",
       "      <th>PROPERTY_STATE_IL</th>\n",
       "      <th>PROPERTY_STATE_IN</th>\n",
       "      <th>PROPERTY_STATE_KS</th>\n",
       "      <th>PROPERTY_STATE_KY</th>\n",
       "      <th>PROPERTY_STATE_LA</th>\n",
       "      <th>PROPERTY_STATE_MA</th>\n",
       "      <th>PROPERTY_STATE_MD</th>\n",
       "      <th>PROPERTY_STATE_ME</th>\n",
       "      <th>PROPERTY_STATE_MI</th>\n",
       "      <th>PROPERTY_STATE_MN</th>\n",
       "      <th>PROPERTY_STATE_MO</th>\n",
       "      <th>PROPERTY_STATE_MS</th>\n",
       "      <th>PROPERTY_STATE_MT</th>\n",
       "      <th>PROPERTY_STATE_NC</th>\n",
       "      <th>PROPERTY_STATE_ND</th>\n",
       "      <th>PROPERTY_STATE_NE</th>\n",
       "      <th>PROPERTY_STATE_NH</th>\n",
       "      <th>PROPERTY_STATE_NJ</th>\n",
       "      <th>PROPERTY_STATE_NM</th>\n",
       "      <th>PROPERTY_STATE_NV</th>\n",
       "      <th>PROPERTY_STATE_NY</th>\n",
       "      <th>PROPERTY_STATE_OH</th>\n",
       "      <th>PROPERTY_STATE_OK</th>\n",
       "      <th>PROPERTY_STATE_OR</th>\n",
       "      <th>PROPERTY_STATE_PA</th>\n",
       "      <th>PROPERTY_STATE_PR</th>\n",
       "      <th>PROPERTY_STATE_RI</th>\n",
       "      <th>PROPERTY_STATE_SC</th>\n",
       "      <th>PROPERTY_STATE_SD</th>\n",
       "      <th>PROPERTY_STATE_TN</th>\n",
       "      <th>PROPERTY_STATE_TX</th>\n",
       "      <th>PROPERTY_STATE_UT</th>\n",
       "      <th>PROPERTY_STATE_VA</th>\n",
       "      <th>PROPERTY_STATE_VT</th>\n",
       "      <th>PROPERTY_STATE_WA</th>\n",
       "      <th>PROPERTY_STATE_WI</th>\n",
       "      <th>PROPERTY_STATE_WV</th>\n",
       "      <th>PROPERTY_STATE_WY</th>\n",
       "      <th>CHANNEL_C</th>\n",
       "      <th>CHANNEL_R</th>\n",
       "      <th>high_risk_proxy</th>\n",
       "    </tr>\n",
       "  </thead>\n",
       "  <tbody>\n",
       "    <tr>\n",
       "      <th>0</th>\n",
       "      <td>0.422086</td>\n",
       "      <td>-0.252548</td>\n",
       "      <td>0.538118</td>\n",
       "      <td>0.108358</td>\n",
       "      <td>0.101866</td>\n",
       "      <td>0.831048</td>\n",
       "      <td>-1.099606</td>\n",
       "      <td>-1.110931</td>\n",
       "      <td>-0.846785</td>\n",
       "      <td>-0.473295</td>\n",
       "      <td>-0.119706</td>\n",
       "      <td>0.0</td>\n",
       "      <td>0.0</td>\n",
       "      <td>-0.862984</td>\n",
       "      <td>True</td>\n",
       "      <td>False</td>\n",
       "      <td>False</td>\n",
       "      <td>False</td>\n",
       "      <td>False</td>\n",
       "      <td>True</td>\n",
       "      <td>True</td>\n",
       "      <td>False</td>\n",
       "      <td>False</td>\n",
       "      <td>False</td>\n",
       "      <td>False</td>\n",
       "      <td>False</td>\n",
       "      <td>False</td>\n",
       "      <td>False</td>\n",
       "      <td>False</td>\n",
       "      <td>False</td>\n",
       "      <td>False</td>\n",
       "      <td>False</td>\n",
       "      <td>False</td>\n",
       "      <td>False</td>\n",
       "      <td>False</td>\n",
       "      <td>False</td>\n",
       "      <td>False</td>\n",
       "      <td>False</td>\n",
       "      <td>False</td>\n",
       "      <td>False</td>\n",
       "      <td>False</td>\n",
       "      <td>False</td>\n",
       "      <td>False</td>\n",
       "      <td>False</td>\n",
       "      <td>False</td>\n",
       "      <td>False</td>\n",
       "      <td>False</td>\n",
       "      <td>False</td>\n",
       "      <td>False</td>\n",
       "      <td>False</td>\n",
       "      <td>False</td>\n",
       "      <td>False</td>\n",
       "      <td>False</td>\n",
       "      <td>False</td>\n",
       "      <td>True</td>\n",
       "      <td>False</td>\n",
       "      <td>False</td>\n",
       "      <td>False</td>\n",
       "      <td>False</td>\n",
       "      <td>False</td>\n",
       "      <td>False</td>\n",
       "      <td>False</td>\n",
       "      <td>False</td>\n",
       "      <td>False</td>\n",
       "      <td>False</td>\n",
       "      <td>False</td>\n",
       "      <td>False</td>\n",
       "      <td>False</td>\n",
       "      <td>False</td>\n",
       "      <td>False</td>\n",
       "      <td>False</td>\n",
       "      <td>False</td>\n",
       "      <td>False</td>\n",
       "      <td>False</td>\n",
       "      <td>True</td>\n",
       "      <td>0</td>\n",
       "    </tr>\n",
       "    <tr>\n",
       "      <th>1</th>\n",
       "      <td>0.148790</td>\n",
       "      <td>-0.702101</td>\n",
       "      <td>0.538118</td>\n",
       "      <td>0.541286</td>\n",
       "      <td>0.535285</td>\n",
       "      <td>0.001019</td>\n",
       "      <td>0.859327</td>\n",
       "      <td>0.851613</td>\n",
       "      <td>-0.846785</td>\n",
       "      <td>-0.473295</td>\n",
       "      <td>-0.119706</td>\n",
       "      <td>0.0</td>\n",
       "      <td>0.0</td>\n",
       "      <td>-0.862984</td>\n",
       "      <td>False</td>\n",
       "      <td>True</td>\n",
       "      <td>False</td>\n",
       "      <td>False</td>\n",
       "      <td>False</td>\n",
       "      <td>True</td>\n",
       "      <td>True</td>\n",
       "      <td>False</td>\n",
       "      <td>False</td>\n",
       "      <td>False</td>\n",
       "      <td>False</td>\n",
       "      <td>False</td>\n",
       "      <td>False</td>\n",
       "      <td>False</td>\n",
       "      <td>False</td>\n",
       "      <td>False</td>\n",
       "      <td>False</td>\n",
       "      <td>False</td>\n",
       "      <td>False</td>\n",
       "      <td>False</td>\n",
       "      <td>False</td>\n",
       "      <td>False</td>\n",
       "      <td>False</td>\n",
       "      <td>False</td>\n",
       "      <td>False</td>\n",
       "      <td>False</td>\n",
       "      <td>False</td>\n",
       "      <td>False</td>\n",
       "      <td>False</td>\n",
       "      <td>False</td>\n",
       "      <td>True</td>\n",
       "      <td>False</td>\n",
       "      <td>False</td>\n",
       "      <td>False</td>\n",
       "      <td>False</td>\n",
       "      <td>False</td>\n",
       "      <td>False</td>\n",
       "      <td>False</td>\n",
       "      <td>False</td>\n",
       "      <td>False</td>\n",
       "      <td>False</td>\n",
       "      <td>False</td>\n",
       "      <td>False</td>\n",
       "      <td>False</td>\n",
       "      <td>False</td>\n",
       "      <td>False</td>\n",
       "      <td>False</td>\n",
       "      <td>False</td>\n",
       "      <td>False</td>\n",
       "      <td>False</td>\n",
       "      <td>False</td>\n",
       "      <td>False</td>\n",
       "      <td>False</td>\n",
       "      <td>False</td>\n",
       "      <td>False</td>\n",
       "      <td>False</td>\n",
       "      <td>False</td>\n",
       "      <td>False</td>\n",
       "      <td>False</td>\n",
       "      <td>False</td>\n",
       "      <td>True</td>\n",
       "      <td>0</td>\n",
       "    </tr>\n",
       "    <tr>\n",
       "      <th>2</th>\n",
       "      <td>-0.397802</td>\n",
       "      <td>0.963146</td>\n",
       "      <td>0.538118</td>\n",
       "      <td>-0.919847</td>\n",
       "      <td>-0.927506</td>\n",
       "      <td>0.831048</td>\n",
       "      <td>-1.363732</td>\n",
       "      <td>-1.375544</td>\n",
       "      <td>-0.846785</td>\n",
       "      <td>-0.473295</td>\n",
       "      <td>-0.119706</td>\n",
       "      <td>0.0</td>\n",
       "      <td>0.0</td>\n",
       "      <td>-0.862984</td>\n",
       "      <td>False</td>\n",
       "      <td>False</td>\n",
       "      <td>False</td>\n",
       "      <td>False</td>\n",
       "      <td>True</td>\n",
       "      <td>False</td>\n",
       "      <td>True</td>\n",
       "      <td>False</td>\n",
       "      <td>False</td>\n",
       "      <td>False</td>\n",
       "      <td>False</td>\n",
       "      <td>True</td>\n",
       "      <td>False</td>\n",
       "      <td>False</td>\n",
       "      <td>False</td>\n",
       "      <td>False</td>\n",
       "      <td>False</td>\n",
       "      <td>False</td>\n",
       "      <td>False</td>\n",
       "      <td>False</td>\n",
       "      <td>False</td>\n",
       "      <td>False</td>\n",
       "      <td>False</td>\n",
       "      <td>False</td>\n",
       "      <td>False</td>\n",
       "      <td>False</td>\n",
       "      <td>False</td>\n",
       "      <td>False</td>\n",
       "      <td>False</td>\n",
       "      <td>False</td>\n",
       "      <td>False</td>\n",
       "      <td>False</td>\n",
       "      <td>False</td>\n",
       "      <td>False</td>\n",
       "      <td>False</td>\n",
       "      <td>False</td>\n",
       "      <td>False</td>\n",
       "      <td>False</td>\n",
       "      <td>False</td>\n",
       "      <td>False</td>\n",
       "      <td>False</td>\n",
       "      <td>False</td>\n",
       "      <td>False</td>\n",
       "      <td>False</td>\n",
       "      <td>False</td>\n",
       "      <td>False</td>\n",
       "      <td>False</td>\n",
       "      <td>False</td>\n",
       "      <td>False</td>\n",
       "      <td>False</td>\n",
       "      <td>False</td>\n",
       "      <td>False</td>\n",
       "      <td>False</td>\n",
       "      <td>False</td>\n",
       "      <td>False</td>\n",
       "      <td>False</td>\n",
       "      <td>False</td>\n",
       "      <td>False</td>\n",
       "      <td>False</td>\n",
       "      <td>False</td>\n",
       "      <td>True</td>\n",
       "      <td>0</td>\n",
       "    </tr>\n",
       "  </tbody>\n",
       "</table>\n",
       "</div>"
      ],
      "text/plain": [
       "   ORIG_INTEREST_RATE  ORIG_UPB  ORIG_LOAN_TERM  ORIG_LTV  ORIG_CLTV  \\\n",
       "0            0.422086 -0.252548        0.538118  0.108358   0.101866   \n",
       "1            0.148790 -0.702101        0.538118  0.541286   0.535285   \n",
       "2           -0.397802  0.963146        0.538118 -0.919847  -0.927506   \n",
       "\n",
       "        DTI  BORR_CREDIT_SCORE  CO_BORR_CREDIT_SCORE  NUM_BORROWERS  \\\n",
       "0  0.831048          -1.099606             -1.110931      -0.846785   \n",
       "1  0.001019           0.859327              0.851613      -0.846785   \n",
       "2  0.831048          -1.363732             -1.375544      -0.846785   \n",
       "\n",
       "   FIRST_TIME_HB_FLAG  NUM_UNITS  AMORTIZATION_TYPE  default_12m  \\\n",
       "0           -0.473295  -0.119706                0.0          0.0   \n",
       "1           -0.473295  -0.119706                0.0          0.0   \n",
       "2           -0.473295  -0.119706                0.0          0.0   \n",
       "\n",
       "   CO_BORR_PRESENT  LOAN_PURPOSE_P  LOAN_PURPOSE_R  PROPERTY_TYPE_CP  \\\n",
       "0        -0.862984            True           False             False   \n",
       "1        -0.862984           False            True             False   \n",
       "2        -0.862984           False           False             False   \n",
       "\n",
       "   PROPERTY_TYPE_MH  PROPERTY_TYPE_PU  PROPERTY_TYPE_SF  OCCUPANCY_STATUS_P  \\\n",
       "0             False             False              True                True   \n",
       "1             False             False              True                True   \n",
       "2             False              True             False                True   \n",
       "\n",
       "   OCCUPANCY_STATUS_S  PROPERTY_STATE_AL  PROPERTY_STATE_AR  \\\n",
       "0               False              False              False   \n",
       "1               False              False              False   \n",
       "2               False              False              False   \n",
       "\n",
       "   PROPERTY_STATE_AZ  PROPERTY_STATE_CA  PROPERTY_STATE_CO  PROPERTY_STATE_CT  \\\n",
       "0              False              False              False              False   \n",
       "1              False              False              False              False   \n",
       "2              False               True              False              False   \n",
       "\n",
       "   PROPERTY_STATE_DC  PROPERTY_STATE_DE  PROPERTY_STATE_FL  PROPERTY_STATE_GA  \\\n",
       "0              False              False              False              False   \n",
       "1              False              False              False              False   \n",
       "2              False              False              False              False   \n",
       "\n",
       "   PROPERTY_STATE_HI  PROPERTY_STATE_IA  PROPERTY_STATE_ID  PROPERTY_STATE_IL  \\\n",
       "0              False              False              False              False   \n",
       "1              False              False              False              False   \n",
       "2              False              False              False              False   \n",
       "\n",
       "   PROPERTY_STATE_IN  PROPERTY_STATE_KS  PROPERTY_STATE_KY  PROPERTY_STATE_LA  \\\n",
       "0              False              False              False              False   \n",
       "1              False              False              False              False   \n",
       "2              False              False              False              False   \n",
       "\n",
       "   PROPERTY_STATE_MA  PROPERTY_STATE_MD  PROPERTY_STATE_ME  PROPERTY_STATE_MI  \\\n",
       "0              False              False              False              False   \n",
       "1              False              False              False              False   \n",
       "2              False              False              False              False   \n",
       "\n",
       "   PROPERTY_STATE_MN  PROPERTY_STATE_MO  PROPERTY_STATE_MS  PROPERTY_STATE_MT  \\\n",
       "0              False              False              False              False   \n",
       "1               True              False              False              False   \n",
       "2              False              False              False              False   \n",
       "\n",
       "   PROPERTY_STATE_NC  PROPERTY_STATE_ND  PROPERTY_STATE_NE  PROPERTY_STATE_NH  \\\n",
       "0              False              False              False              False   \n",
       "1              False              False              False              False   \n",
       "2              False              False              False              False   \n",
       "\n",
       "   PROPERTY_STATE_NJ  PROPERTY_STATE_NM  PROPERTY_STATE_NV  PROPERTY_STATE_NY  \\\n",
       "0              False              False               True              False   \n",
       "1              False              False              False              False   \n",
       "2              False              False              False              False   \n",
       "\n",
       "   PROPERTY_STATE_OH  PROPERTY_STATE_OK  PROPERTY_STATE_OR  PROPERTY_STATE_PA  \\\n",
       "0              False              False              False              False   \n",
       "1              False              False              False              False   \n",
       "2              False              False              False              False   \n",
       "\n",
       "   PROPERTY_STATE_PR  PROPERTY_STATE_RI  PROPERTY_STATE_SC  PROPERTY_STATE_SD  \\\n",
       "0              False              False              False              False   \n",
       "1              False              False              False              False   \n",
       "2              False              False              False              False   \n",
       "\n",
       "   PROPERTY_STATE_TN  PROPERTY_STATE_TX  PROPERTY_STATE_UT  PROPERTY_STATE_VA  \\\n",
       "0              False              False              False              False   \n",
       "1              False              False              False              False   \n",
       "2              False              False              False              False   \n",
       "\n",
       "   PROPERTY_STATE_VT  PROPERTY_STATE_WA  PROPERTY_STATE_WI  PROPERTY_STATE_WV  \\\n",
       "0              False              False              False              False   \n",
       "1              False              False              False              False   \n",
       "2              False              False              False              False   \n",
       "\n",
       "   PROPERTY_STATE_WY  CHANNEL_C  CHANNEL_R  high_risk_proxy  \n",
       "0              False      False       True                0  \n",
       "1              False      False       True                0  \n",
       "2              False      False       True                0  "
      ]
     },
     "metadata": {},
     "output_type": "display_data"
    },
    {
     "name": "stdout",
     "output_type": "stream",
     "text": [
      "\n",
      "Target counts:\n",
      "high_risk_proxy\n",
      "0    7920\n",
      "1    3276\n",
      "Name: count, dtype: int64\n",
      "Target rate: 0.29260450160771706\n"
     ]
    }
   ],
   "source": [
    "df = pd.read_csv(DATA_PATH)\n",
    "print(\"Loaded:\", DATA_PATH)\n",
    "print(\"Shape:\", df.shape)\n",
    "display(df.head(3))\n",
    "\n",
    "TARGET = \"high_risk_proxy\"\n",
    "if TARGET not in df.columns:\n",
    "    raise ValueError(f\"Target '{TARGET}' not found in dataset. Re-run prep notebook to include it.\")\n",
    "\n",
    "print(\"\\nTarget counts:\")\n",
    "print(df[TARGET].value_counts())\n",
    "print(\"Target rate:\", df[TARGET].mean())\n",
    "\n",
    "\n",
    "assert df[TARGET].nunique() == 2, \"Target is single-class. Revisit prep/proxy creation.\"\n"
   ]
  },
  {
   "cell_type": "markdown",
   "id": "00e7f571",
   "metadata": {
    "papermill": {
     "duration": 0.005562,
     "end_time": "2025-10-06T17:02:37.441825",
     "exception": false,
     "start_time": "2025-10-06T17:02:37.436263",
     "status": "completed"
    },
    "tags": []
   },
   "source": [
    "### Why a proxy target?\n",
    "We haven’t attached monthly performance yet, so a true 12-month default label isn’t available.  \n",
    "To let us validate the entire ML pipeline end-to-end, we defined a **proxy risk label**:\n",
    "\n",
    "- `high_risk_proxy = 1` if any of:\n",
    "  - `BORR_CREDIT_SCORE < 660`, or\n",
    "  - `DTI > 45`, or\n",
    "  - `ORIG_LTV > 90`\n",
    "- otherwise `0`.\n",
    "\n",
    "This mirrors common underwriting screens. It is **not** a claim about actual 12-month defaults; it’s a training wheel for the pipeline. When performance data is attached, we will **swap in the true label** and re-run the exact pipeline.\n"
   ]
  },
  {
   "cell_type": "markdown",
   "id": "31fae580",
   "metadata": {
    "papermill": {
     "duration": 0.005495,
     "end_time": "2025-10-06T17:02:37.452913",
     "exception": false,
     "start_time": "2025-10-06T17:02:37.447418",
     "status": "completed"
    },
    "tags": []
   },
   "source": [
    "#### Define X/y and split"
   ]
  },
  {
   "cell_type": "code",
   "execution_count": 3,
   "id": "0fd3de7e",
   "metadata": {
    "execution": {
     "iopub.execute_input": "2025-10-06T17:02:37.466604Z",
     "iopub.status.busy": "2025-10-06T17:02:37.465803Z",
     "iopub.status.idle": "2025-10-06T17:02:37.501115Z",
     "shell.execute_reply": "2025-10-06T17:02:37.499803Z"
    },
    "papermill": {
     "duration": 0.044085,
     "end_time": "2025-10-06T17:02:37.502544",
     "exception": false,
     "start_time": "2025-10-06T17:02:37.458459",
     "status": "completed"
    },
    "tags": []
   },
   "outputs": [
    {
     "name": "stdout",
     "output_type": "stream",
     "text": [
      "Any NaNs left in features: False\n",
      "Train: (8956, 75)  Test: (2240, 75)\n",
      "Positive rate — overall: 0.29260450160771706  train: 0.2926529700759268  test: 0.2924107142857143\n"
     ]
    }
   ],
   "source": [
    "ID_COLS = ['LOAN_ID']  \n",
    "\n",
    "# Model-ready is numeric-only already\n",
    "X = df.drop(columns=[TARGET] + [c for c in ID_COLS if c in df.columns], errors='ignore')\n",
    "y = df[TARGET].astype(int)\n",
    "\n",
    "# Defensive sweep: replace inf with NaN, then fill any accidental NaNs\n",
    "X = X.replace([np.inf, -np.inf], np.nan)\n",
    "if X.isna().any().any():\n",
    "    for col in X.columns:\n",
    "        if X[col].isna().any():\n",
    "            # mode for binary/very-low-cardinality; else median\n",
    "            uniq = pd.unique(X[col].dropna())\n",
    "            if set(uniq).issubset({0,1}) or len(uniq) <= 3:\n",
    "                fill_val = X[col].mode().iloc[0] if not X[col].mode().empty else 0\n",
    "            else:\n",
    "                fill_val = X[col].median()\n",
    "            X[col] = X[col].fillna(fill_val)\n",
    "\n",
    "print(\"Any NaNs left in features:\", X.isna().any().any())\n",
    "\n",
    "# Stratified split\n",
    "X_train, X_test, y_train, y_test = train_test_split(\n",
    "    X, y, test_size=0.20, random_state=42, stratify=y\n",
    ")\n",
    "print(\"Train:\", X_train.shape, \" Test:\", X_test.shape)\n",
    "print(\"Positive rate — overall:\", y.mean(), \" train:\", y_train.mean(), \" test:\", y_test.mean())\n",
    "\n",
    "# Final guard: both classes in train/test\n",
    "assert y_train.nunique() == 2 and y_test.nunique() == 2, \"Stratified split failed to keep both classes.\"\n"
   ]
  },
  {
   "cell_type": "code",
   "execution_count": 4,
   "id": "f0d26d8a",
   "metadata": {
    "execution": {
     "iopub.execute_input": "2025-10-06T17:02:37.515757Z",
     "iopub.status.busy": "2025-10-06T17:02:37.515167Z",
     "iopub.status.idle": "2025-10-06T17:02:37.519977Z",
     "shell.execute_reply": "2025-10-06T17:02:37.519102Z"
    },
    "papermill": {
     "duration": 0.012886,
     "end_time": "2025-10-06T17:02:37.521362",
     "exception": false,
     "start_time": "2025-10-06T17:02:37.508476",
     "status": "completed"
    },
    "tags": []
   },
   "outputs": [],
   "source": [
    "# Ensure the target (or its exact rule) didn’t slip into X\n",
    "assert 'high_risk_proxy' not in X.columns\n",
    "# check that I didn't accidentally one-hot the target\n",
    "leak_cols = [c for c in X.columns if 'high_risk_proxy' in c.lower()]\n",
    "assert len(leak_cols) == 0, leak_cols\n"
   ]
  },
  {
   "cell_type": "markdown",
   "id": "6a7eacc9",
   "metadata": {
    "papermill": {
     "duration": 0.005299,
     "end_time": "2025-10-06T17:02:37.532469",
     "exception": false,
     "start_time": "2025-10-06T17:02:37.527170",
     "status": "completed"
    },
    "tags": []
   },
   "source": [
    "#### Baseline: Logistic Regression"
   ]
  },
  {
   "cell_type": "code",
   "execution_count": 5,
   "id": "acf2ec48",
   "metadata": {
    "execution": {
     "iopub.execute_input": "2025-10-06T17:02:37.544734Z",
     "iopub.status.busy": "2025-10-06T17:02:37.544410Z",
     "iopub.status.idle": "2025-10-06T17:02:37.655398Z",
     "shell.execute_reply": "2025-10-06T17:02:37.654408Z"
    },
    "papermill": {
     "duration": 0.118616,
     "end_time": "2025-10-06T17:02:37.656693",
     "exception": false,
     "start_time": "2025-10-06T17:02:37.538077",
     "status": "completed"
    },
    "tags": []
   },
   "outputs": [
    {
     "name": "stdout",
     "output_type": "stream",
     "text": [
      "Logistic Regression Results\n",
      "              precision    recall  f1-score   support\n",
      "\n",
      "           0      0.917     0.782     0.844      1585\n",
      "           1      0.611     0.829     0.703       655\n",
      "\n",
      "    accuracy                          0.796      2240\n",
      "   macro avg      0.764     0.805     0.774      2240\n",
      "weighted avg      0.828     0.796     0.803      2240\n",
      "\n",
      "ROC-AUC: 0.888131577046259\n"
     ]
    }
   ],
   "source": [
    "log_reg = LogisticRegression(max_iter=1000, class_weight='balanced', solver='liblinear')\n",
    "log_reg.fit(X_train, y_train)\n",
    "\n",
    "y_pred_lr = log_reg.predict(X_test)\n",
    "y_prob_lr = log_reg.predict_proba(X_test)[:, 1]\n",
    "\n",
    "print(\"Logistic Regression Results\")\n",
    "print(classification_report(y_test, y_pred_lr, digits=3))\n",
    "print(\"ROC-AUC:\", roc_auc_score(y_test, y_prob_lr))\n"
   ]
  },
  {
   "cell_type": "markdown",
   "id": "32c99c1f",
   "metadata": {
    "papermill": {
     "duration": 0.00541,
     "end_time": "2025-10-06T17:02:37.667803",
     "exception": false,
     "start_time": "2025-10-06T17:02:37.662393",
     "status": "completed"
    },
    "tags": []
   },
   "source": [
    "### Baseline interpretation (Logistic Regression)\n",
    "- ROC-AUC ≈ 0.89 indicates the baseline separates the proxy classes reasonably well.\n",
    "- Coefficients with largest absolute magnitude: DTI, LTV/(CLTV), credit score — which aligns with the proxy definition.\n",
    "- This baseline serves as a transparent benchmark and a stress-test for our preprocessing.\n"
   ]
  },
  {
   "cell_type": "markdown",
   "id": "472ce529",
   "metadata": {
    "papermill": {
     "duration": 0.005197,
     "end_time": "2025-10-06T17:02:37.678430",
     "exception": false,
     "start_time": "2025-10-06T17:02:37.673233",
     "status": "completed"
    },
    "tags": []
   },
   "source": [
    "#### Random Forest"
   ]
  },
  {
   "cell_type": "code",
   "execution_count": 6,
   "id": "9286b071",
   "metadata": {
    "execution": {
     "iopub.execute_input": "2025-10-06T17:02:37.690575Z",
     "iopub.status.busy": "2025-10-06T17:02:37.690276Z",
     "iopub.status.idle": "2025-10-06T17:02:39.554708Z",
     "shell.execute_reply": "2025-10-06T17:02:39.553573Z"
    },
    "papermill": {
     "duration": 1.872321,
     "end_time": "2025-10-06T17:02:39.556258",
     "exception": false,
     "start_time": "2025-10-06T17:02:37.683937",
     "status": "completed"
    },
    "tags": []
   },
   "outputs": [
    {
     "name": "stdout",
     "output_type": "stream",
     "text": [
      "Random Forest Results\n",
      "              precision    recall  f1-score   support\n",
      "\n",
      "           0      0.999     0.999     0.999      1585\n",
      "           1      0.998     0.997     0.998       655\n",
      "\n",
      "    accuracy                          0.999      2240\n",
      "   macro avg      0.999     0.998     0.998      2240\n",
      "weighted avg      0.999     0.999     0.999      2240\n",
      "\n",
      "ROC-AUC: 0.9999816986538878\n"
     ]
    }
   ],
   "source": [
    "rf = RandomForestClassifier(\n",
    "    n_estimators=300,\n",
    "    max_depth=12,\n",
    "    min_samples_leaf=50,\n",
    "    random_state=42,\n",
    "    class_weight='balanced'\n",
    ")\n",
    "rf.fit(X_train, y_train)\n",
    "\n",
    "y_pred_rf = rf.predict(X_test)\n",
    "y_prob_rf = rf.predict_proba(X_test)[:, 1]\n",
    "\n",
    "print(\"Random Forest Results\")\n",
    "print(classification_report(y_test, y_pred_rf, digits=3))\n",
    "print(\"ROC-AUC:\", roc_auc_score(y_test, y_prob_rf))\n"
   ]
  },
  {
   "cell_type": "markdown",
   "id": "f4e54180",
   "metadata": {
    "papermill": {
     "duration": 0.005596,
     "end_time": "2025-10-06T17:02:39.567764",
     "exception": false,
     "start_time": "2025-10-06T17:02:39.562168",
     "status": "completed"
    },
    "tags": []
   },
   "source": [
    "### Why tree models are (nearly) perfect here\n",
    "The proxy is a **deterministic rule on three numeric features**.  \n",
    "Tree-based models can represent such threshold rules almost exactly, so they reproduce the proxy with ~100% fidelity.  \n",
    "This confirms that:\n",
    "- My features are correctly prepared,\n",
    "- My target is consistent with those features,\n",
    "- My split and evaluation code are working.\n",
    "\n",
    "When I switch to the true default label, these models will no longer be perfect — and that’s where model comparison, calibration, and thresholding will be critical.\n"
   ]
  },
  {
   "cell_type": "markdown",
   "id": "592895df",
   "metadata": {
    "papermill": {
     "duration": 0.005252,
     "end_time": "2025-10-06T17:02:39.578508",
     "exception": false,
     "start_time": "2025-10-06T17:02:39.573256",
     "status": "completed"
    },
    "tags": []
   },
   "source": [
    "#### XGBoost"
   ]
  },
  {
   "cell_type": "code",
   "execution_count": 7,
   "id": "307963cd",
   "metadata": {
    "execution": {
     "iopub.execute_input": "2025-10-06T17:02:39.590858Z",
     "iopub.status.busy": "2025-10-06T17:02:39.590535Z",
     "iopub.status.idle": "2025-10-06T17:02:40.179204Z",
     "shell.execute_reply": "2025-10-06T17:02:40.178543Z"
    },
    "papermill": {
     "duration": 0.597719,
     "end_time": "2025-10-06T17:02:40.181805",
     "exception": false,
     "start_time": "2025-10-06T17:02:39.584086",
     "status": "completed"
    },
    "tags": []
   },
   "outputs": [
    {
     "name": "stdout",
     "output_type": "stream",
     "text": [
      "XGBoost Results\n",
      "              precision    recall  f1-score   support\n",
      "\n",
      "           0      1.000     1.000     1.000      1585\n",
      "           1      1.000     1.000     1.000       655\n",
      "\n",
      "    accuracy                          1.000      2240\n",
      "   macro avg      1.000     1.000     1.000      2240\n",
      "weighted avg      1.000     1.000     1.000      2240\n",
      "\n",
      "ROC-AUC: 1.0\n"
     ]
    }
   ],
   "source": [
    "# Handle class imbalance with scale_pos_weight\n",
    "pos = y_train.sum()\n",
    "neg = len(y_train) - pos\n",
    "scale_pos = neg / max(pos, 1)\n",
    "\n",
    "xgb = XGBClassifier(\n",
    "    n_estimators=400,\n",
    "    learning_rate=0.05,\n",
    "    max_depth=6,\n",
    "    subsample=0.9,\n",
    "    colsample_bytree=0.9,\n",
    "    reg_lambda=1.0,\n",
    "    random_state=42,\n",
    "    n_jobs=-1,\n",
    "    scale_pos_weight=scale_pos,\n",
    "    eval_metric=\"logloss\"\n",
    ")\n",
    "xgb.fit(X_train, y_train)\n",
    "\n",
    "y_pred_xgb = xgb.predict(X_test)\n",
    "y_prob_xgb = xgb.predict_proba(X_test)[:, 1]\n",
    "\n",
    "print(\"XGBoost Results\")\n",
    "print(classification_report(y_test, y_pred_xgb, digits=3))\n",
    "print(\"ROC-AUC:\", roc_auc_score(y_test, y_prob_xgb))\n"
   ]
  },
  {
   "cell_type": "markdown",
   "id": "de185803",
   "metadata": {
    "papermill": {
     "duration": 0.00552,
     "end_time": "2025-10-06T17:02:40.193141",
     "exception": false,
     "start_time": "2025-10-06T17:02:40.187621",
     "status": "completed"
    },
    "tags": []
   },
   "source": [
    "#### Compare Models"
   ]
  },
  {
   "cell_type": "code",
   "execution_count": 8,
   "id": "1d55c28f",
   "metadata": {
    "execution": {
     "iopub.execute_input": "2025-10-06T17:02:40.206178Z",
     "iopub.status.busy": "2025-10-06T17:02:40.205345Z",
     "iopub.status.idle": "2025-10-06T17:02:40.227168Z",
     "shell.execute_reply": "2025-10-06T17:02:40.226334Z"
    },
    "papermill": {
     "duration": 0.029653,
     "end_time": "2025-10-06T17:02:40.228470",
     "exception": false,
     "start_time": "2025-10-06T17:02:40.198817",
     "status": "completed"
    },
    "tags": []
   },
   "outputs": [
    {
     "data": {
      "text/html": [
       "<div>\n",
       "<style scoped>\n",
       "    .dataframe tbody tr th:only-of-type {\n",
       "        vertical-align: middle;\n",
       "    }\n",
       "\n",
       "    .dataframe tbody tr th {\n",
       "        vertical-align: top;\n",
       "    }\n",
       "\n",
       "    .dataframe thead th {\n",
       "        text-align: right;\n",
       "    }\n",
       "</style>\n",
       "<table border=\"1\" class=\"dataframe\">\n",
       "  <thead>\n",
       "    <tr style=\"text-align: right;\">\n",
       "      <th></th>\n",
       "      <th>Model</th>\n",
       "      <th>Accuracy</th>\n",
       "      <th>ROC_AUC</th>\n",
       "    </tr>\n",
       "  </thead>\n",
       "  <tbody>\n",
       "    <tr>\n",
       "      <th>2</th>\n",
       "      <td>XGBoost</td>\n",
       "      <td>1.000000</td>\n",
       "      <td>1.000000</td>\n",
       "    </tr>\n",
       "    <tr>\n",
       "      <th>1</th>\n",
       "      <td>Random Forest</td>\n",
       "      <td>0.998661</td>\n",
       "      <td>0.999982</td>\n",
       "    </tr>\n",
       "    <tr>\n",
       "      <th>0</th>\n",
       "      <td>Logistic Regression</td>\n",
       "      <td>0.795536</td>\n",
       "      <td>0.888132</td>\n",
       "    </tr>\n",
       "  </tbody>\n",
       "</table>\n",
       "</div>"
      ],
      "text/plain": [
       "                 Model  Accuracy   ROC_AUC\n",
       "2              XGBoost  1.000000  1.000000\n",
       "1        Random Forest  0.998661  0.999982\n",
       "0  Logistic Regression  0.795536  0.888132"
      ]
     },
     "execution_count": 8,
     "metadata": {},
     "output_type": "execute_result"
    }
   ],
   "source": [
    "rows = [\n",
    "    (\"Logistic Regression\", accuracy_score(y_test, y_pred_lr), roc_auc_score(y_test, y_prob_lr)),\n",
    "    (\"Random Forest\",       accuracy_score(y_test, y_pred_rf), roc_auc_score(y_test, y_prob_rf)),\n",
    "]\n",
    "try:\n",
    "    rows.append((\"XGBoost\", accuracy_score(y_test, y_pred_xgb), roc_auc_score(y_test, y_prob_xgb)))\n",
    "except NameError:\n",
    "    pass\n",
    "\n",
    "results = pd.DataFrame(rows, columns=[\"Model\", \"Accuracy\", \"ROC_AUC\"]).sort_values(\"ROC_AUC\", ascending=False)\n",
    "results\n"
   ]
  },
  {
   "cell_type": "markdown",
   "id": "201945fb",
   "metadata": {
    "papermill": {
     "duration": 0.00577,
     "end_time": "2025-10-06T17:02:40.240418",
     "exception": false,
     "start_time": "2025-10-06T17:02:40.234648",
     "status": "completed"
    },
    "tags": []
   },
   "source": [
    "#### ROC Curves "
   ]
  },
  {
   "cell_type": "code",
   "execution_count": 9,
   "id": "7a1b46e7",
   "metadata": {
    "execution": {
     "iopub.execute_input": "2025-10-06T17:02:40.253965Z",
     "iopub.status.busy": "2025-10-06T17:02:40.253130Z",
     "iopub.status.idle": "2025-10-06T17:02:40.547528Z",
     "shell.execute_reply": "2025-10-06T17:02:40.546769Z"
    },
    "papermill": {
     "duration": 0.303096,
     "end_time": "2025-10-06T17:02:40.549311",
     "exception": false,
     "start_time": "2025-10-06T17:02:40.246215",
     "status": "completed"
    },
    "tags": []
   },
   "outputs": [
    {
     "data": {
      "image/png": "[encoded data removed]",
      "text/plain": [
       "<Figure size 700x600 with 1 Axes>"
      ]
     },
     "metadata": {},
     "output_type": "display_data"
    }
   ],
   "source": [
    "plt.figure(figsize=(7,6))\n",
    "\n",
    "fpr, tpr, _ = roc_curve(y_test, y_prob_lr)\n",
    "plt.plot(fpr, tpr, label=f\"LogReg (AUC={roc_auc_score(y_test, y_prob_lr):.3f})\")\n",
    "\n",
    "fpr, tpr, _ = roc_curve(y_test, y_prob_rf)\n",
    "plt.plot(fpr, tpr, label=f\"RandomForest (AUC={roc_auc_score(y_test, y_prob_rf):.3f})\")\n",
    "\n",
    "try:\n",
    "    fpr, tpr, _ = roc_curve(y_test, y_prob_xgb)\n",
    "    plt.plot(fpr, tpr, label=f\"XGBoost (AUC={roc_auc_score(y_test, y_prob_xgb):.3f})\")\n",
    "except NameError:\n",
    "    pass\n",
    "\n",
    "plt.plot([0,1],[0,1],'--', color='gray')\n",
    "plt.xlabel(\"False Positive Rate\")\n",
    "plt.ylabel(\"True Positive Rate\")\n",
    "plt.title(\"ROC Curves\")\n",
    "plt.legend()\n",
    "plt.show()\n"
   ]
  },
  {
   "cell_type": "markdown",
   "id": "dc50e753",
   "metadata": {
    "papermill": {
     "duration": 0.006452,
     "end_time": "2025-10-06T17:02:40.562919",
     "exception": false,
     "start_time": "2025-10-06T17:02:40.556467",
     "status": "completed"
    },
    "tags": []
   },
   "source": [
    "### Threshold selection and business trade-offs\n",
    "For real underwriting, the operating threshold controls the trade-off:\n",
    "- Higher threshold → fewer predicted “high risk” (lower false-positive burden), but higher chance to miss risky loans.\n",
    "- Lower threshold → catch more risk (higher recall), but more borrowers flagged for review.\n",
    "\n",
    "Here I report the F1-optimized threshold for each model as a neutral default. In production, I would **optimize for business cost**, e.g., weigh false negatives (missed risky loans) higher than false positives (extra reviews).\n"
   ]
  },
  {
   "cell_type": "markdown",
   "id": "f6c46afd",
   "metadata": {
    "papermill": {
     "duration": 0.00645,
     "end_time": "2025-10-06T17:02:40.576244",
     "exception": false,
     "start_time": "2025-10-06T17:02:40.569794",
     "status": "completed"
    },
    "tags": []
   },
   "source": [
    "#### Precision Recall Curve Plot"
   ]
  },
  {
   "cell_type": "code",
   "execution_count": 10,
   "id": "9ebfc19d",
   "metadata": {
    "execution": {
     "iopub.execute_input": "2025-10-06T17:02:40.591606Z",
     "iopub.status.busy": "2025-10-06T17:02:40.590689Z",
     "iopub.status.idle": "2025-10-06T17:02:40.814316Z",
     "shell.execute_reply": "2025-10-06T17:02:40.813469Z"
    },
    "papermill": {
     "duration": 0.232828,
     "end_time": "2025-10-06T17:02:40.815818",
     "exception": false,
     "start_time": "2025-10-06T17:02:40.582990",
     "status": "completed"
    },
    "tags": []
   },
   "outputs": [
    {
     "data": {
      "image/png": "[encoded data removed]",
      "text/plain": [
       "<Figure size 700x600 with 1 Axes>"
      ]
     },
     "metadata": {},
     "output_type": "display_data"
    }
   ],
   "source": [
    "from sklearn.metrics import precision_recall_curve, average_precision_score\n",
    "\n",
    "def plot_pr(y_true, probs_dict):\n",
    "    plt.figure(figsize=(7,6))\n",
    "    for name, y_prob in probs_dict.items():\n",
    "        prec, rec, _ = precision_recall_curve(y_true, y_prob)\n",
    "        ap = average_precision_score(y_true, y_prob)\n",
    "        plt.plot(rec, prec, label=f\"{name} (AP={ap:.3f})\")\n",
    "    plt.xlabel(\"Recall\")\n",
    "    plt.ylabel(\"Precision\")\n",
    "    plt.title(\"Precision–Recall Curves\")\n",
    "    plt.legend()\n",
    "    plt.show()\n",
    "\n",
    "probs = {\"LogReg\": y_prob_lr, \"RandomForest\": y_prob_rf}\n",
    "if 'y_prob_xgb' in locals():\n",
    "    probs[\"XGBoost\"] = y_prob_xgb\n",
    "\n",
    "plot_pr(y_test, probs)\n"
   ]
  },
  {
   "cell_type": "markdown",
   "id": "039e3d21",
   "metadata": {
    "papermill": {
     "duration": 0.007446,
     "end_time": "2025-10-06T17:02:40.830921",
     "exception": false,
     "start_time": "2025-10-06T17:02:40.823475",
     "status": "completed"
    },
    "tags": []
   },
   "source": [
    "#### Threshold Tuning (Maximize F1 on PR Curve) "
   ]
  },
  {
   "cell_type": "code",
   "execution_count": 11,
   "id": "1ac1dcfc",
   "metadata": {
    "execution": {
     "iopub.execute_input": "2025-10-06T17:02:40.847472Z",
     "iopub.status.busy": "2025-10-06T17:02:40.847171Z",
     "iopub.status.idle": "2025-10-06T17:02:40.858636Z",
     "shell.execute_reply": "2025-10-06T17:02:40.857811Z"
    },
    "papermill": {
     "duration": 0.021458,
     "end_time": "2025-10-06T17:02:40.860032",
     "exception": false,
     "start_time": "2025-10-06T17:02:40.838574",
     "status": "completed"
    },
    "tags": []
   },
   "outputs": [
    {
     "name": "stdout",
     "output_type": "stream",
     "text": [
      "LogReg: best F1 threshold=0.578 | Precision=0.664 | Recall=0.773 | F1=0.714\n",
      "RandomForest: best F1 threshold=0.493 | Precision=0.998 | Recall=1.000 | F1=0.999\n",
      "XGBoost: best F1 threshold=0.997 | Precision=1.000 | Recall=1.000 | F1=1.000\n"
     ]
    }
   ],
   "source": [
    "def best_threshold_by_f1(y_true, y_prob):\n",
    "    prec, rec, thr = precision_recall_curve(y_true, y_prob)\n",
    "    f1 = 2 * (prec * rec) / (prec + rec + 1e-12)\n",
    "    idx = int(np.nanargmax(f1[:-1]))  # thresholds array is len-1\n",
    "    return float(thr[idx]), float(prec[idx]), float(rec[idx]), float(f1[idx])\n",
    "\n",
    "model_probs = [(\"LogReg\", y_prob_lr), (\"RandomForest\", y_prob_rf)]\n",
    "if 'y_prob_xgb' in locals():\n",
    "    model_probs.append((\"XGBoost\", y_prob_xgb))\n",
    "\n",
    "for name, yprob in model_probs:\n",
    "    thr, p, r, f1 = best_threshold_by_f1(y_test, yprob)\n",
    "    print(f\"{name}: best F1 threshold={thr:.3f} | Precision={p:.3f} | Recall={r:.3f} | F1={f1:.3f}\")\n"
   ]
  },
  {
   "cell_type": "markdown",
   "id": "2d1e7ff4",
   "metadata": {
    "papermill": {
     "duration": 0.007243,
     "end_time": "2025-10-06T17:02:40.875080",
     "exception": false,
     "start_time": "2025-10-06T17:02:40.867837",
     "status": "completed"
    },
    "tags": []
   },
   "source": [
    "#### Confusion Matrix at tuned threshold (best ROC-AUC model)"
   ]
  },
  {
   "cell_type": "code",
   "execution_count": 12,
   "id": "b49b99b9",
   "metadata": {
    "execution": {
     "iopub.execute_input": "2025-10-06T17:02:40.891033Z",
     "iopub.status.busy": "2025-10-06T17:02:40.890671Z",
     "iopub.status.idle": "2025-10-06T17:02:41.075900Z",
     "shell.execute_reply": "2025-10-06T17:02:41.074861Z"
    },
    "papermill": {
     "duration": 0.19502,
     "end_time": "2025-10-06T17:02:41.077427",
     "exception": false,
     "start_time": "2025-10-06T17:02:40.882407",
     "status": "completed"
    },
    "tags": []
   },
   "outputs": [
    {
     "data": {
      "image/png": "[encoded data removed]",
      "text/plain": [
       "<Figure size 400x300 with 2 Axes>"
      ]
     },
     "metadata": {},
     "output_type": "display_data"
    },
    {
     "name": "stdout",
     "output_type": "stream",
     "text": [
      "Classification report at tuned threshold\n",
      "              precision    recall  f1-score   support\n",
      "\n",
      "           0      1.000     1.000     1.000      1585\n",
      "           1      1.000     1.000     1.000       655\n",
      "\n",
      "    accuracy                          1.000      2240\n",
      "   macro avg      1.000     1.000     1.000      2240\n",
      "weighted avg      1.000     1.000     1.000      2240\n",
      "\n"
     ]
    }
   ],
   "source": [
    "best_name = results.iloc[0]['Model']\n",
    "if best_name == \"Logistic Regression\":\n",
    "    y_prob_best = y_prob_lr\n",
    "elif best_name == \"Random Forest\":\n",
    "    y_prob_best = y_prob_rf\n",
    "else:\n",
    "    y_prob_best = y_prob_xgb\n",
    "\n",
    "thr, p, r, f1 = best_threshold_by_f1(y_test, y_prob_best)\n",
    "y_pred_best = (y_prob_best >= thr).astype(int)\n",
    "\n",
    "cm = confusion_matrix(y_test, y_pred_best)\n",
    "plt.figure(figsize=(4,3))\n",
    "sns.heatmap(cm, annot=True, fmt='d', cmap='Blues')\n",
    "plt.title(f\"Confusion Matrix ({best_name}, thr={thr:.2f})\")\n",
    "plt.xlabel(\"Predicted\")\n",
    "plt.ylabel(\"Actual\")\n",
    "plt.show()\n",
    "\n",
    "print(\"Classification report at tuned threshold\")\n",
    "print(classification_report(y_test, y_pred_best, digits=3))\n"
   ]
  },
  {
   "cell_type": "markdown",
   "id": "014d388e",
   "metadata": {
    "papermill": {
     "duration": 0.0075,
     "end_time": "2025-10-06T17:02:41.093464",
     "exception": false,
     "start_time": "2025-10-06T17:02:41.085964",
     "status": "completed"
    },
    "tags": []
   },
   "source": [
    "#### Feature Importance"
   ]
  },
  {
   "cell_type": "code",
   "execution_count": 13,
   "id": "4df695e8",
   "metadata": {
    "execution": {
     "iopub.execute_input": "2025-10-06T17:02:41.110644Z",
     "iopub.status.busy": "2025-10-06T17:02:41.109778Z",
     "iopub.status.idle": "2025-10-06T17:02:41.154822Z",
     "shell.execute_reply": "2025-10-06T17:02:41.153882Z"
    },
    "papermill": {
     "duration": 0.055218,
     "end_time": "2025-10-06T17:02:41.156340",
     "exception": false,
     "start_time": "2025-10-06T17:02:41.101122",
     "status": "completed"
    },
    "tags": []
   },
   "outputs": [
    {
     "data": {
      "text/html": [
       "<div>\n",
       "<style scoped>\n",
       "    .dataframe tbody tr th:only-of-type {\n",
       "        vertical-align: middle;\n",
       "    }\n",
       "\n",
       "    .dataframe tbody tr th {\n",
       "        vertical-align: top;\n",
       "    }\n",
       "\n",
       "    .dataframe thead th {\n",
       "        text-align: right;\n",
       "    }\n",
       "</style>\n",
       "<table border=\"1\" class=\"dataframe\">\n",
       "  <thead>\n",
       "    <tr style=\"text-align: right;\">\n",
       "      <th></th>\n",
       "      <th>feature</th>\n",
       "      <th>coef</th>\n",
       "      <th>abs_coef</th>\n",
       "    </tr>\n",
       "  </thead>\n",
       "  <tbody>\n",
       "    <tr>\n",
       "      <th>5</th>\n",
       "      <td>DTI</td>\n",
       "      <td>1.559425</td>\n",
       "      <td>1.559425</td>\n",
       "    </tr>\n",
       "    <tr>\n",
       "      <th>14</th>\n",
       "      <td>LOAN_PURPOSE_P</td>\n",
       "      <td>1.116704</td>\n",
       "      <td>1.116704</td>\n",
       "    </tr>\n",
       "    <tr>\n",
       "      <th>50</th>\n",
       "      <td>PROPERTY_STATE_NE</td>\n",
       "      <td>-1.000494</td>\n",
       "      <td>1.000494</td>\n",
       "    </tr>\n",
       "    <tr>\n",
       "      <th>3</th>\n",
       "      <td>ORIG_LTV</td>\n",
       "      <td>0.898277</td>\n",
       "      <td>0.898277</td>\n",
       "    </tr>\n",
       "    <tr>\n",
       "      <th>6</th>\n",
       "      <td>BORR_CREDIT_SCORE</td>\n",
       "      <td>-0.679159</td>\n",
       "      <td>0.679159</td>\n",
       "    </tr>\n",
       "    <tr>\n",
       "      <th>68</th>\n",
       "      <td>PROPERTY_STATE_VT</td>\n",
       "      <td>-0.632891</td>\n",
       "      <td>0.632891</td>\n",
       "    </tr>\n",
       "    <tr>\n",
       "      <th>28</th>\n",
       "      <td>PROPERTY_STATE_DC</td>\n",
       "      <td>-0.612016</td>\n",
       "      <td>0.612016</td>\n",
       "    </tr>\n",
       "    <tr>\n",
       "      <th>35</th>\n",
       "      <td>PROPERTY_STATE_IL</td>\n",
       "      <td>-0.609012</td>\n",
       "      <td>0.609012</td>\n",
       "    </tr>\n",
       "    <tr>\n",
       "      <th>38</th>\n",
       "      <td>PROPERTY_STATE_KY</td>\n",
       "      <td>0.584474</td>\n",
       "      <td>0.584474</td>\n",
       "    </tr>\n",
       "    <tr>\n",
       "      <th>15</th>\n",
       "      <td>LOAN_PURPOSE_R</td>\n",
       "      <td>0.572605</td>\n",
       "      <td>0.572605</td>\n",
       "    </tr>\n",
       "    <tr>\n",
       "      <th>29</th>\n",
       "      <td>PROPERTY_STATE_DE</td>\n",
       "      <td>0.571050</td>\n",
       "      <td>0.571050</td>\n",
       "    </tr>\n",
       "    <tr>\n",
       "      <th>21</th>\n",
       "      <td>OCCUPANCY_STATUS_S</td>\n",
       "      <td>-0.549365</td>\n",
       "      <td>0.549365</td>\n",
       "    </tr>\n",
       "    <tr>\n",
       "      <th>56</th>\n",
       "      <td>PROPERTY_STATE_OH</td>\n",
       "      <td>-0.548940</td>\n",
       "      <td>0.548940</td>\n",
       "    </tr>\n",
       "    <tr>\n",
       "      <th>9</th>\n",
       "      <td>FIRST_TIME_HB_FLAG</td>\n",
       "      <td>0.524016</td>\n",
       "      <td>0.524016</td>\n",
       "    </tr>\n",
       "    <tr>\n",
       "      <th>33</th>\n",
       "      <td>PROPERTY_STATE_IA</td>\n",
       "      <td>-0.514278</td>\n",
       "      <td>0.514278</td>\n",
       "    </tr>\n",
       "  </tbody>\n",
       "</table>\n",
       "</div>"
      ],
      "text/plain": [
       "               feature      coef  abs_coef\n",
       "5                  DTI  1.559425  1.559425\n",
       "14      LOAN_PURPOSE_P  1.116704  1.116704\n",
       "50   PROPERTY_STATE_NE -1.000494  1.000494\n",
       "3             ORIG_LTV  0.898277  0.898277\n",
       "6    BORR_CREDIT_SCORE -0.679159  0.679159\n",
       "68   PROPERTY_STATE_VT -0.632891  0.632891\n",
       "28   PROPERTY_STATE_DC -0.612016  0.612016\n",
       "35   PROPERTY_STATE_IL -0.609012  0.609012\n",
       "38   PROPERTY_STATE_KY  0.584474  0.584474\n",
       "15      LOAN_PURPOSE_R  0.572605  0.572605\n",
       "29   PROPERTY_STATE_DE  0.571050  0.571050\n",
       "21  OCCUPANCY_STATUS_S -0.549365  0.549365\n",
       "56   PROPERTY_STATE_OH -0.548940  0.548940\n",
       "9   FIRST_TIME_HB_FLAG  0.524016  0.524016\n",
       "33   PROPERTY_STATE_IA -0.514278  0.514278"
      ]
     },
     "metadata": {},
     "output_type": "display_data"
    },
    {
     "data": {
      "text/html": [
       "<div>\n",
       "<style scoped>\n",
       "    .dataframe tbody tr th:only-of-type {\n",
       "        vertical-align: middle;\n",
       "    }\n",
       "\n",
       "    .dataframe tbody tr th {\n",
       "        vertical-align: top;\n",
       "    }\n",
       "\n",
       "    .dataframe thead th {\n",
       "        text-align: right;\n",
       "    }\n",
       "</style>\n",
       "<table border=\"1\" class=\"dataframe\">\n",
       "  <thead>\n",
       "    <tr style=\"text-align: right;\">\n",
       "      <th></th>\n",
       "      <th>feature</th>\n",
       "      <th>importance</th>\n",
       "    </tr>\n",
       "  </thead>\n",
       "  <tbody>\n",
       "    <tr>\n",
       "      <th>5</th>\n",
       "      <td>DTI</td>\n",
       "      <td>0.362608</td>\n",
       "    </tr>\n",
       "    <tr>\n",
       "      <th>4</th>\n",
       "      <td>ORIG_CLTV</td>\n",
       "      <td>0.208496</td>\n",
       "    </tr>\n",
       "    <tr>\n",
       "      <th>3</th>\n",
       "      <td>ORIG_LTV</td>\n",
       "      <td>0.179982</td>\n",
       "    </tr>\n",
       "    <tr>\n",
       "      <th>6</th>\n",
       "      <td>BORR_CREDIT_SCORE</td>\n",
       "      <td>0.072716</td>\n",
       "    </tr>\n",
       "    <tr>\n",
       "      <th>14</th>\n",
       "      <td>LOAN_PURPOSE_P</td>\n",
       "      <td>0.052527</td>\n",
       "    </tr>\n",
       "    <tr>\n",
       "      <th>7</th>\n",
       "      <td>CO_BORR_CREDIT_SCORE</td>\n",
       "      <td>0.041473</td>\n",
       "    </tr>\n",
       "    <tr>\n",
       "      <th>9</th>\n",
       "      <td>FIRST_TIME_HB_FLAG</td>\n",
       "      <td>0.035306</td>\n",
       "    </tr>\n",
       "    <tr>\n",
       "      <th>0</th>\n",
       "      <td>ORIG_INTEREST_RATE</td>\n",
       "      <td>0.012999</td>\n",
       "    </tr>\n",
       "    <tr>\n",
       "      <th>2</th>\n",
       "      <td>ORIG_LOAN_TERM</td>\n",
       "      <td>0.011455</td>\n",
       "    </tr>\n",
       "    <tr>\n",
       "      <th>20</th>\n",
       "      <td>OCCUPANCY_STATUS_P</td>\n",
       "      <td>0.005216</td>\n",
       "    </tr>\n",
       "    <tr>\n",
       "      <th>1</th>\n",
       "      <td>ORIG_UPB</td>\n",
       "      <td>0.005166</td>\n",
       "    </tr>\n",
       "    <tr>\n",
       "      <th>15</th>\n",
       "      <td>LOAN_PURPOSE_R</td>\n",
       "      <td>0.004512</td>\n",
       "    </tr>\n",
       "    <tr>\n",
       "      <th>8</th>\n",
       "      <td>NUM_BORROWERS</td>\n",
       "      <td>0.001229</td>\n",
       "    </tr>\n",
       "    <tr>\n",
       "      <th>13</th>\n",
       "      <td>CO_BORR_PRESENT</td>\n",
       "      <td>0.001094</td>\n",
       "    </tr>\n",
       "    <tr>\n",
       "      <th>21</th>\n",
       "      <td>OCCUPANCY_STATUS_S</td>\n",
       "      <td>0.000867</td>\n",
       "    </tr>\n",
       "  </tbody>\n",
       "</table>\n",
       "</div>"
      ],
      "text/plain": [
       "                 feature  importance\n",
       "5                    DTI    0.362608\n",
       "4              ORIG_CLTV    0.208496\n",
       "3               ORIG_LTV    0.179982\n",
       "6      BORR_CREDIT_SCORE    0.072716\n",
       "14        LOAN_PURPOSE_P    0.052527\n",
       "7   CO_BORR_CREDIT_SCORE    0.041473\n",
       "9     FIRST_TIME_HB_FLAG    0.035306\n",
       "0     ORIG_INTEREST_RATE    0.012999\n",
       "2         ORIG_LOAN_TERM    0.011455\n",
       "20    OCCUPANCY_STATUS_P    0.005216\n",
       "1               ORIG_UPB    0.005166\n",
       "15        LOAN_PURPOSE_R    0.004512\n",
       "8          NUM_BORROWERS    0.001229\n",
       "13       CO_BORR_PRESENT    0.001094\n",
       "21    OCCUPANCY_STATUS_S    0.000867"
      ]
     },
     "metadata": {},
     "output_type": "display_data"
    },
    {
     "data": {
      "text/html": [
       "<div>\n",
       "<style scoped>\n",
       "    .dataframe tbody tr th:only-of-type {\n",
       "        vertical-align: middle;\n",
       "    }\n",
       "\n",
       "    .dataframe tbody tr th {\n",
       "        vertical-align: top;\n",
       "    }\n",
       "\n",
       "    .dataframe thead th {\n",
       "        text-align: right;\n",
       "    }\n",
       "</style>\n",
       "<table border=\"1\" class=\"dataframe\">\n",
       "  <thead>\n",
       "    <tr style=\"text-align: right;\">\n",
       "      <th></th>\n",
       "      <th>feature</th>\n",
       "      <th>importance</th>\n",
       "    </tr>\n",
       "  </thead>\n",
       "  <tbody>\n",
       "    <tr>\n",
       "      <th>3</th>\n",
       "      <td>ORIG_LTV</td>\n",
       "      <td>0.416209</td>\n",
       "    </tr>\n",
       "    <tr>\n",
       "      <th>5</th>\n",
       "      <td>DTI</td>\n",
       "      <td>0.285958</td>\n",
       "    </tr>\n",
       "    <tr>\n",
       "      <th>6</th>\n",
       "      <td>BORR_CREDIT_SCORE</td>\n",
       "      <td>0.133424</td>\n",
       "    </tr>\n",
       "    <tr>\n",
       "      <th>4</th>\n",
       "      <td>ORIG_CLTV</td>\n",
       "      <td>0.073540</td>\n",
       "    </tr>\n",
       "    <tr>\n",
       "      <th>7</th>\n",
       "      <td>CO_BORR_CREDIT_SCORE</td>\n",
       "      <td>0.043381</td>\n",
       "    </tr>\n",
       "    <tr>\n",
       "      <th>2</th>\n",
       "      <td>ORIG_LOAN_TERM</td>\n",
       "      <td>0.010937</td>\n",
       "    </tr>\n",
       "    <tr>\n",
       "      <th>9</th>\n",
       "      <td>FIRST_TIME_HB_FLAG</td>\n",
       "      <td>0.007899</td>\n",
       "    </tr>\n",
       "    <tr>\n",
       "      <th>8</th>\n",
       "      <td>NUM_BORROWERS</td>\n",
       "      <td>0.007799</td>\n",
       "    </tr>\n",
       "    <tr>\n",
       "      <th>20</th>\n",
       "      <td>OCCUPANCY_STATUS_P</td>\n",
       "      <td>0.003601</td>\n",
       "    </tr>\n",
       "    <tr>\n",
       "      <th>10</th>\n",
       "      <td>NUM_UNITS</td>\n",
       "      <td>0.003291</td>\n",
       "    </tr>\n",
       "    <tr>\n",
       "      <th>57</th>\n",
       "      <td>PROPERTY_STATE_OK</td>\n",
       "      <td>0.003140</td>\n",
       "    </tr>\n",
       "    <tr>\n",
       "      <th>15</th>\n",
       "      <td>LOAN_PURPOSE_R</td>\n",
       "      <td>0.002156</td>\n",
       "    </tr>\n",
       "    <tr>\n",
       "      <th>25</th>\n",
       "      <td>PROPERTY_STATE_CA</td>\n",
       "      <td>0.001267</td>\n",
       "    </tr>\n",
       "    <tr>\n",
       "      <th>0</th>\n",
       "      <td>ORIG_INTEREST_RATE</td>\n",
       "      <td>0.001225</td>\n",
       "    </tr>\n",
       "    <tr>\n",
       "      <th>14</th>\n",
       "      <td>LOAN_PURPOSE_P</td>\n",
       "      <td>0.001206</td>\n",
       "    </tr>\n",
       "  </tbody>\n",
       "</table>\n",
       "</div>"
      ],
      "text/plain": [
       "                 feature  importance\n",
       "3               ORIG_LTV    0.416209\n",
       "5                    DTI    0.285958\n",
       "6      BORR_CREDIT_SCORE    0.133424\n",
       "4              ORIG_CLTV    0.073540\n",
       "7   CO_BORR_CREDIT_SCORE    0.043381\n",
       "2         ORIG_LOAN_TERM    0.010937\n",
       "9     FIRST_TIME_HB_FLAG    0.007899\n",
       "8          NUM_BORROWERS    0.007799\n",
       "20    OCCUPANCY_STATUS_P    0.003601\n",
       "10             NUM_UNITS    0.003291\n",
       "57     PROPERTY_STATE_OK    0.003140\n",
       "15        LOAN_PURPOSE_R    0.002156\n",
       "25     PROPERTY_STATE_CA    0.001267\n",
       "0     ORIG_INTEREST_RATE    0.001225\n",
       "14        LOAN_PURPOSE_P    0.001206"
      ]
     },
     "metadata": {},
     "output_type": "display_data"
    }
   ],
   "source": [
    "# Logistic coefficients (top magnitude)\n",
    "coef_df = pd.DataFrame({\"feature\": X.columns, \"coef\": log_reg.coef_[0]})\n",
    "coef_df[\"abs_coef\"] = coef_df[\"coef\"].abs()\n",
    "display(coef_df.sort_values(\"abs_coef\", ascending=False).head(15))\n",
    "\n",
    "# Random Forest importances (top)\n",
    "rf_imp = pd.DataFrame({\"feature\": X.columns, \"importance\": rf.feature_importances_})\n",
    "display(rf_imp.sort_values(\"importance\", ascending=False).head(15))\n",
    "\n",
    "# XGBoost importances (if used)\n",
    "if 'xgb' in locals():\n",
    "    xgb_imp = pd.DataFrame({\"feature\": X.columns, \"importance\": xgb.feature_importances_})\n",
    "    display(xgb_imp.sort_values(\"importance\", ascending=False).head(15))\n"
   ]
  },
  {
   "cell_type": "markdown",
   "id": "8530d746",
   "metadata": {
    "papermill": {
     "duration": 0.008346,
     "end_time": "2025-10-06T17:02:41.173547",
     "exception": false,
     "start_time": "2025-10-06T17:02:41.165201",
     "status": "completed"
    },
    "tags": []
   },
   "source": [
    "### Feature signals (proxy task)\n",
    "Top drivers match the proxy definition: DTI, (C)LTV, and credit score dominate.  \n",
    "Category indicators (purpose, occupancy, state) provide smaller but consistent signal.  \n",
    "This is the expected pattern for a rule-defined target and reassures us the pipeline is behaving properly.\n"
   ]
  },
  {
   "cell_type": "markdown",
   "id": "0e3466a9",
   "metadata": {
    "papermill": {
     "duration": 0.00915,
     "end_time": "2025-10-06T17:02:41.191527",
     "exception": false,
     "start_time": "2025-10-06T17:02:41.182377",
     "status": "completed"
    },
    "tags": []
   },
   "source": [
    "#### Cross Validation"
   ]
  },
  {
   "cell_type": "code",
   "execution_count": 14,
   "id": "5a550e9a",
   "metadata": {
    "execution": {
     "iopub.execute_input": "2025-10-06T17:02:41.210057Z",
     "iopub.status.busy": "2025-10-06T17:02:41.209694Z",
     "iopub.status.idle": "2025-10-06T17:02:41.645274Z",
     "shell.execute_reply": "2025-10-06T17:02:41.644108Z"
    },
    "papermill": {
     "duration": 0.446762,
     "end_time": "2025-10-06T17:02:41.646944",
     "exception": false,
     "start_time": "2025-10-06T17:02:41.200182",
     "status": "completed"
    },
    "tags": []
   },
   "outputs": [
    {
     "name": "stdout",
     "output_type": "stream",
     "text": [
      "LogReg CV ROC-AUC: 0.886 +/- 0.006\n"
     ]
    }
   ],
   "source": [
    "cv = StratifiedKFold(n_splits=5, shuffle=True, random_state=42)\n",
    "lr_cv_auc = cross_val_score(\n",
    "    LogisticRegression(max_iter=1000, class_weight='balanced', solver='liblinear'),\n",
    "    X, y, cv=cv, scoring='roc_auc'\n",
    ")\n",
    "print(\"LogReg CV ROC-AUC:\", lr_cv_auc.mean().round(3), \"+/-\", lr_cv_auc.std().round(3))\n"
   ]
  },
  {
   "cell_type": "markdown",
   "id": "c9b231c7",
   "metadata": {
    "papermill": {
     "duration": 0.008304,
     "end_time": "2025-10-06T17:02:41.666153",
     "exception": false,
     "start_time": "2025-10-06T17:02:41.657849",
     "status": "completed"
    },
    "tags": []
   },
   "source": [
    "#### Persist Artifacts"
   ]
  },
  {
   "cell_type": "code",
   "execution_count": 15,
   "id": "0ebaa0eb",
   "metadata": {
    "execution": {
     "iopub.execute_input": "2025-10-06T17:02:41.684690Z",
     "iopub.status.busy": "2025-10-06T17:02:41.684141Z",
     "iopub.status.idle": "2025-10-06T17:02:41.709580Z",
     "shell.execute_reply": "2025-10-06T17:02:41.708593Z"
    },
    "papermill": {
     "duration": 0.03647,
     "end_time": "2025-10-06T17:02:41.711025",
     "exception": false,
     "start_time": "2025-10-06T17:02:41.674555",
     "status": "completed"
    },
    "tags": []
   },
   "outputs": [
    {
     "name": "stdout",
     "output_type": "stream",
     "text": [
      "Saved model: /kaggle/working/best_model_proxy_xgboost.joblib\n",
      "Saved predictions: /kaggle/working/test_predictions_proxy.csv\n"
     ]
    }
   ],
   "source": [
    "import joblib\n",
    "\n",
    "best_model = {\"Logistic Regression\": log_reg, \"Random Forest\": rf}.get(best_name, xgb)\n",
    "model_path = os.path.join(OUTPUT_DIR, f\"best_model_proxy_{best_name.replace(' ','_').lower()}.joblib\")\n",
    "preds_path = os.path.join(OUTPUT_DIR, \"test_predictions_proxy.csv\")\n",
    "\n",
    "joblib.dump(best_model, model_path)\n",
    "pd.DataFrame({\"y_true\": y_test, \"y_prob\": y_prob_best, \"y_pred\": y_pred_best}).to_csv(preds_path, index=False)\n",
    "\n",
    "print(\"Saved model:\", model_path)\n",
    "print(\"Saved predictions:\", preds_path)\n"
   ]
  }
 ],
 "metadata": {
  "kaggle": {
   "accelerator": "none",
   "dataSources": [
    {
     "datasetId": 8415443,
     "sourceId": 13278959,
     "sourceType": "datasetVersion"
    }
   ],
   "dockerImageVersionId": 31089,
   "isGpuEnabled": false,
   "isInternetEnabled": true,
   "language": "python",
   "sourceType": "notebook"
  },
  "kernelspec": {
   "display_name": "Python 3",
   "language": "python",
   "name": "python3"
  },
  "language_info": {
   "codemirror_mode": {
    "name": "ipython",
    "version": 3
   },
   "file_extension": ".py",
   "mimetype": "text/x-python",
   "name": "python",
   "nbconvert_exporter": "python",
   "pygments_lexer": "ipython3",
   "version": "3.11.13"
  },
  "papermill": {
   "default_parameters": {},
   "duration": 14.776783,
   "end_time": "2025-10-06T17:02:42.440105",
   "environment_variables": {},
   "exception": null,
   "input_path": "__notebook__.ipynb",
   "output_path": "__notebook__.ipynb",
   "parameters": {},
   "start_time": "2025-10-06T17:02:27.663322",
   "version": "2.6.0"
  }
 },
 "nbformat": 4,
 "nbformat_minor": 5
}
