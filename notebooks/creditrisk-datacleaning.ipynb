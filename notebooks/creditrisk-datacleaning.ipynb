{
 "cells": [
  {
   "cell_type": "markdown",
   "id": "6219984c",
   "metadata": {
    "papermill": {
     "duration": 0.003602,
     "end_time": "2025-09-11T16:59:36.181748",
     "exception": false,
     "start_time": "2025-09-11T16:59:36.178146",
     "status": "completed"
    },
    "tags": []
   },
   "source": [
    "# Credit Risk — Fannie Mae (Q1 2022) Preprocessing\n",
    "\n",
    "Goal: Build a compact, model-ready table with one row per loan at origination and a binary label = default within 12 months.\n",
    "\n",
    "### Why this structure?\n",
    "\n",
    "- I model a decision made at loan approval time, so we only keep features known at origination (e.g., credit score, DTI, LTV, purpose, property type, state, etc.).\n",
    "\n",
    "- The target (label) is computed from post-origination performance but only to define the outcome, never as input features.\n",
    "\n",
    "### What this notebook does:\n",
    "\n",
    "1. Load the large pipe-delimited file (no header).\n",
    "\n",
    "2. Rename c0…c109 → official field names for the columns we need.\n",
    "\n",
    "3. Parse dates (MMYYYY).\n",
    "\n",
    "4. Compute months since origination for each reporting row.\n",
    "\n",
    "5. Create the label default_12m = 1 if within months 0–11 the loan is 90+ DPD or hits a distressed zero-balance code (e.g., short sale / deed-in-lieu / REO).\n",
    "\n",
    "6. Select origination features and collapse to one row per loan.\n",
    "\n",
    "7. Export a tidy CSV for modeling."
   ]
  },
  {
   "cell_type": "code",
   "execution_count": 1,
   "id": "7d05fb41",
   "metadata": {
    "execution": {
     "iopub.execute_input": "2025-09-11T16:59:36.189348Z",
     "iopub.status.busy": "2025-09-11T16:59:36.188980Z",
     "iopub.status.idle": "2025-09-11T17:00:35.383099Z",
     "shell.execute_reply": "2025-09-11T17:00:35.381800Z"
    },
    "papermill": {
     "duration": 59.202451,
     "end_time": "2025-09-11T17:00:35.387511",
     "exception": false,
     "start_time": "2025-09-11T16:59:36.185060",
     "status": "completed"
    },
    "tags": []
   },
   "outputs": [
    {
     "data": {
      "text/plain": [
       "((2000000, 110),\n",
       "     c0            c1      c2 c3     c4                            c5   c6  \\\n",
       " 0  NaN  000130357804  012022  R  Other  Lakeview Loan Servicing, LLC  NaN   \n",
       " 1  NaN  000130357804  022022  R  Other  Lakeview Loan Servicing, LLC  NaN   \n",
       " 2  NaN  000130357804  032022  R  Other  Lakeview Loan Servicing, LLC  NaN   \n",
       " \n",
       "       c7     c8         c9  ... c100 c101 c102 c103 c104 c105 c106 c107 c108  \\\n",
       " 0  3.375  3.375  255000.00  ...  NaN    7    N  NaN  NaN    7  NaN  NaN    7   \n",
       " 1  3.375  3.375  255000.00  ...  NaN    7    N  NaN  NaN    7  NaN  NaN    7   \n",
       " 2  3.375  3.375  255000.00  ...  NaN    7    N  NaN  NaN    7  NaN  NaN    7   \n",
       " \n",
       "   c109  \n",
       " 0  NaN  \n",
       " 1  NaN  \n",
       " 2  NaN  \n",
       " \n",
       " [3 rows x 110 columns])"
      ]
     },
     "execution_count": 1,
     "metadata": {},
     "output_type": "execute_result"
    }
   ],
   "source": [
    "# --- Imports + read sample (adjust nrows or remove to read full file on Kaggle) ---\n",
    "import os\n",
    "import pandas as pd\n",
    "from datetime import datetime\n",
    "\n",
    "data_dir = \"/kaggle/input/q1-2022-fanniemae\"\n",
    "file_path = os.path.join(data_dir, \"2022Q1.csv\")  # adjust if needed\n",
    "\n",
    "df = pd.read_csv(\n",
    "    file_path,\n",
    "    sep=\"|\",\n",
    "    header=None,\n",
    "    dtype=str,           # keep as string to avoid mixed-type issues\n",
    "    on_bad_lines=\"skip\",\n",
    "    low_memory=False,\n",
    "    nrows=2_000_000\n",
    ")\n",
    "\n",
    "df.columns = [f\"c{i}\" for i in range(df.shape[1])]\n",
    "df.shape, df.head(3)\n"
   ]
  },
  {
   "cell_type": "markdown",
   "id": "3702df67",
   "metadata": {
    "papermill": {
     "duration": 0.002914,
     "end_time": "2025-09-11T17:00:35.393714",
     "exception": false,
     "start_time": "2025-09-11T17:00:35.390800",
     "status": "completed"
    },
    "tags": []
   },
   "source": [
    "### Minimal official Mapping \n",
    "This maps only the columns I actually need for organisation features + label."
   ]
  },
  {
   "cell_type": "code",
   "execution_count": 2,
   "id": "8e035a0c",
   "metadata": {
    "execution": {
     "iopub.execute_input": "2025-09-11T17:00:35.401189Z",
     "iopub.status.busy": "2025-09-11T17:00:35.400907Z",
     "iopub.status.idle": "2025-09-11T17:00:38.029278Z",
     "shell.execute_reply": "2025-09-11T17:00:38.027809Z"
    },
    "papermill": {
     "duration": 2.634903,
     "end_time": "2025-09-11T17:00:38.031728",
     "exception": false,
     "start_time": "2025-09-11T17:00:35.396825",
     "status": "completed"
    },
    "tags": []
   },
   "outputs": [
    {
     "data": {
      "text/html": [
       "<div>\n",
       "<style scoped>\n",
       "    .dataframe tbody tr th:only-of-type {\n",
       "        vertical-align: middle;\n",
       "    }\n",
       "\n",
       "    .dataframe tbody tr th {\n",
       "        vertical-align: top;\n",
       "    }\n",
       "\n",
       "    .dataframe thead th {\n",
       "        text-align: right;\n",
       "    }\n",
       "</style>\n",
       "<table border=\"1\" class=\"dataframe\">\n",
       "  <thead>\n",
       "    <tr style=\"text-align: right;\">\n",
       "      <th></th>\n",
       "      <th>REFERENCE_POOL_ID</th>\n",
       "      <th>LOAN_ID</th>\n",
       "      <th>MONTHLY_REPORTING_PERIOD</th>\n",
       "      <th>CHANNEL</th>\n",
       "      <th>SELLER_NAME</th>\n",
       "      <th>SERVICER_NAME</th>\n",
       "      <th>ORIG_INTEREST_RATE</th>\n",
       "      <th>CURR_INTEREST_RATE</th>\n",
       "      <th>ORIG_UPB</th>\n",
       "      <th>CURRENT_ACTUAL_UPB</th>\n",
       "      <th>...</th>\n",
       "      <th>AMORTIZATION_TYPE</th>\n",
       "      <th>PREPAYMENT_PENALTY_FLAG</th>\n",
       "      <th>INTEREST_ONLY_FLAG</th>\n",
       "      <th>CURR_DELINQ_STATUS</th>\n",
       "      <th>PAYMENT_HISTORY_24MO</th>\n",
       "      <th>ZERO_BALANCE_CODE</th>\n",
       "      <th>ZERO_BALANCE_EFF_DATE</th>\n",
       "      <th>LAST_PAID_INSTALLMENT_DATE</th>\n",
       "      <th>FORECLOSURE_DATE</th>\n",
       "      <th>DISPOSITION_DATE</th>\n",
       "    </tr>\n",
       "  </thead>\n",
       "  <tbody>\n",
       "    <tr>\n",
       "      <th>0</th>\n",
       "      <td>NaN</td>\n",
       "      <td>000130357804</td>\n",
       "      <td>012022</td>\n",
       "      <td>R</td>\n",
       "      <td>Other</td>\n",
       "      <td>Lakeview Loan Servicing, LLC</td>\n",
       "      <td>3.375</td>\n",
       "      <td>3.375</td>\n",
       "      <td>255000.00</td>\n",
       "      <td>255000.00</td>\n",
       "      <td>...</td>\n",
       "      <td>N</td>\n",
       "      <td>N</td>\n",
       "      <td>NaN</td>\n",
       "      <td>XXXXXXXXXXXXXXXXXXXXXXXXXXXXXXXXXXXXXXXXXXXXXX00</td>\n",
       "      <td>N</td>\n",
       "      <td>NaN</td>\n",
       "      <td>NaN</td>\n",
       "      <td>NaN</td>\n",
       "      <td>NaN</td>\n",
       "      <td>NaN</td>\n",
       "    </tr>\n",
       "    <tr>\n",
       "      <th>1</th>\n",
       "      <td>NaN</td>\n",
       "      <td>000130357804</td>\n",
       "      <td>022022</td>\n",
       "      <td>R</td>\n",
       "      <td>Other</td>\n",
       "      <td>Lakeview Loan Servicing, LLC</td>\n",
       "      <td>3.375</td>\n",
       "      <td>3.375</td>\n",
       "      <td>255000.00</td>\n",
       "      <td>255000.00</td>\n",
       "      <td>...</td>\n",
       "      <td>N</td>\n",
       "      <td>N</td>\n",
       "      <td>NaN</td>\n",
       "      <td>XXXXXXXXXXXXXXXXXXXXXXXXXXXXXXXXXXXXXXXXXXXX0000</td>\n",
       "      <td>N</td>\n",
       "      <td>NaN</td>\n",
       "      <td>NaN</td>\n",
       "      <td>NaN</td>\n",
       "      <td>NaN</td>\n",
       "      <td>NaN</td>\n",
       "    </tr>\n",
       "    <tr>\n",
       "      <th>2</th>\n",
       "      <td>NaN</td>\n",
       "      <td>000130357804</td>\n",
       "      <td>032022</td>\n",
       "      <td>R</td>\n",
       "      <td>Other</td>\n",
       "      <td>Lakeview Loan Servicing, LLC</td>\n",
       "      <td>3.375</td>\n",
       "      <td>3.375</td>\n",
       "      <td>255000.00</td>\n",
       "      <td>255000.00</td>\n",
       "      <td>...</td>\n",
       "      <td>N</td>\n",
       "      <td>N</td>\n",
       "      <td>NaN</td>\n",
       "      <td>XXXXXXXXXXXXXXXXXXXXXXXXXXXXXXXXXXXXXXXXXX000000</td>\n",
       "      <td>N</td>\n",
       "      <td>NaN</td>\n",
       "      <td>NaN</td>\n",
       "      <td>NaN</td>\n",
       "      <td>NaN</td>\n",
       "      <td>NaN</td>\n",
       "    </tr>\n",
       "  </tbody>\n",
       "</table>\n",
       "<p>3 rows × 37 columns</p>\n",
       "</div>"
      ],
      "text/plain": [
       "  REFERENCE_POOL_ID       LOAN_ID MONTHLY_REPORTING_PERIOD CHANNEL  \\\n",
       "0               NaN  000130357804                   012022       R   \n",
       "1               NaN  000130357804                   022022       R   \n",
       "2               NaN  000130357804                   032022       R   \n",
       "\n",
       "  SELLER_NAME                 SERVICER_NAME ORIG_INTEREST_RATE  \\\n",
       "0       Other  Lakeview Loan Servicing, LLC              3.375   \n",
       "1       Other  Lakeview Loan Servicing, LLC              3.375   \n",
       "2       Other  Lakeview Loan Servicing, LLC              3.375   \n",
       "\n",
       "  CURR_INTEREST_RATE   ORIG_UPB CURRENT_ACTUAL_UPB  ... AMORTIZATION_TYPE  \\\n",
       "0              3.375  255000.00          255000.00  ...                 N   \n",
       "1              3.375  255000.00          255000.00  ...                 N   \n",
       "2              3.375  255000.00          255000.00  ...                 N   \n",
       "\n",
       "  PREPAYMENT_PENALTY_FLAG INTEREST_ONLY_FLAG  \\\n",
       "0                       N                NaN   \n",
       "1                       N                NaN   \n",
       "2                       N                NaN   \n",
       "\n",
       "                                 CURR_DELINQ_STATUS PAYMENT_HISTORY_24MO  \\\n",
       "0  XXXXXXXXXXXXXXXXXXXXXXXXXXXXXXXXXXXXXXXXXXXXXX00                    N   \n",
       "1  XXXXXXXXXXXXXXXXXXXXXXXXXXXXXXXXXXXXXXXXXXXX0000                    N   \n",
       "2  XXXXXXXXXXXXXXXXXXXXXXXXXXXXXXXXXXXXXXXXXX000000                    N   \n",
       "\n",
       "  ZERO_BALANCE_CODE ZERO_BALANCE_EFF_DATE LAST_PAID_INSTALLMENT_DATE  \\\n",
       "0               NaN                   NaN                        NaN   \n",
       "1               NaN                   NaN                        NaN   \n",
       "2               NaN                   NaN                        NaN   \n",
       "\n",
       "  FORECLOSURE_DATE DISPOSITION_DATE  \n",
       "0              NaN              NaN  \n",
       "1              NaN              NaN  \n",
       "2              NaN              NaN  \n",
       "\n",
       "[3 rows x 37 columns]"
      ]
     },
     "execution_count": 2,
     "metadata": {},
     "output_type": "execute_result"
    }
   ],
   "source": [
    "# --- Minimal mapping for features + label creation ---\n",
    "col_map = {\n",
    "    \"c0\":  \"REFERENCE_POOL_ID\",\n",
    "    \"c1\":  \"LOAN_ID\",\n",
    "    \"c2\":  \"MONTHLY_REPORTING_PERIOD\",  # MMYYYY\n",
    "    \"c3\":  \"CHANNEL\",                   # R/C/B/etc.\n",
    "    \"c4\":  \"SELLER_NAME\",\n",
    "    \"c5\":  \"SERVICER_NAME\",\n",
    "    \"c7\":  \"ORIG_INTEREST_RATE\",\n",
    "    \"c8\":  \"CURR_INTEREST_RATE\",\n",
    "    \"c9\":  \"ORIG_UPB\",\n",
    "    \"c11\": \"CURRENT_ACTUAL_UPB\",\n",
    "    \"c12\": \"ORIG_LOAN_TERM\",\n",
    "    \"c13\": \"ORIGINATION_DATE\",          # MMYYYY\n",
    "    \"c14\": \"FIRST_PAYMENT_DATE\",        # MMYYYY\n",
    "    \"c18\": \"MATURITY_DATE\",             # MMYYYY\n",
    "    \"c19\": \"ORIG_LTV\",\n",
    "    \"c20\": \"ORIG_CLTV\",\n",
    "    \"c21\": \"NUM_BORROWERS\",\n",
    "    \"c22\": \"DTI\",\n",
    "    \"c23\": \"BORR_CREDIT_SCORE\",\n",
    "    \"c24\": \"CO_BORR_CREDIT_SCORE\",\n",
    "    \"c25\": \"FIRST_TIME_HB_FLAG\",\n",
    "    \"c26\": \"LOAN_PURPOSE\",\n",
    "    \"c27\": \"PROPERTY_TYPE\",\n",
    "    \"c28\": \"NUM_UNITS\",\n",
    "    \"c29\": \"OCCUPANCY_STATUS\",\n",
    "    \"c30\": \"PROPERTY_STATE\",\n",
    "    \"c33\": \"MI_PCT\",\n",
    "    \"c35\": \"AMORTIZATION_TYPE\",         # FRM/ARM\n",
    "    \"c36\": \"PREPAYMENT_PENALTY_FLAG\",\n",
    "    \"c37\": \"INTEREST_ONLY_FLAG\",\n",
    "    \"c40\": \"CURR_DELINQ_STATUS\",        # '00','01','02','03',...,'99','XX'\n",
    "    \"c41\": \"PAYMENT_HISTORY_24MO\",\n",
    "    \"c44\": \"ZERO_BALANCE_CODE\",         # '01','02','03','06','09','96',...\n",
    "    \"c45\": \"ZERO_BALANCE_EFF_DATE\",     # MMYYYY\n",
    "    \"c51\": \"LAST_PAID_INSTALLMENT_DATE\",\n",
    "    \"c52\": \"FORECLOSURE_DATE\",\n",
    "    \"c53\": \"DISPOSITION_DATE\",\n",
    "}\n",
    "\n",
    "df = df.rename(columns=col_map)\n",
    "df[list(col_map.values())].head(3)\n"
   ]
  },
  {
   "cell_type": "markdown",
   "id": "8094ba09",
   "metadata": {
    "papermill": {
     "duration": 0.00319,
     "end_time": "2025-09-11T17:00:38.038676",
     "exception": false,
     "start_time": "2025-09-11T17:00:38.035486",
     "status": "completed"
    },
    "tags": []
   },
   "source": [
    "### Date parsing + month math "
   ]
  },
  {
   "cell_type": "code",
   "execution_count": 3,
   "id": "dea51f17",
   "metadata": {
    "execution": {
     "iopub.execute_input": "2025-09-11T17:00:38.047268Z",
     "iopub.status.busy": "2025-09-11T17:00:38.046967Z",
     "iopub.status.idle": "2025-09-11T17:08:33.274250Z",
     "shell.execute_reply": "2025-09-11T17:08:33.273442Z"
    },
    "papermill": {
     "duration": 475.233778,
     "end_time": "2025-09-11T17:08:33.276282",
     "exception": false,
     "start_time": "2025-09-11T17:00:38.042504",
     "status": "completed"
    },
    "tags": []
   },
   "outputs": [],
   "source": [
    "# --- Parse MMYYYY into pandas period for easy month arithmetic ---\n",
    "def parse_mmyyyy_to_period(s):\n",
    "    try:\n",
    "        # Ensure length is 6 like '012022'; guard NaNs\n",
    "        s = str(s)\n",
    "        if len(s) == 6 and s.isdigit():\n",
    "            return pd.Period(s, freq='M')\n",
    "    except Exception:\n",
    "        pass\n",
    "    return pd.NaT\n",
    "\n",
    "date_cols = [\n",
    "    \"MONTHLY_REPORTING_PERIOD\",\n",
    "    \"ORIGINATION_DATE\",\n",
    "    \"FIRST_PAYMENT_DATE\",\n",
    "    \"MATURITY_DATE\",\n",
    "    \"ZERO_BALANCE_EFF_DATE\",\n",
    "    \"FORECLOSURE_DATE\",\n",
    "    \"DISPOSITION_DATE\",\n",
    "    \"LAST_PAID_INSTALLMENT_DATE\",\n",
    "]\n",
    "\n",
    "for c in date_cols:\n",
    "    if c in df.columns:\n",
    "        df[c] = df[c].apply(parse_mmyyyy_to_period)\n",
    "\n",
    "# months since orig = (reporting_period - origination_date) in months\n",
    "def months_between(p1, p0):\n",
    "    if pd.isna(p1) or pd.isna(p0):\n",
    "        return pd.NA\n",
    "    return (p1.year - p0.year) * 12 + (p1.month - p0.month)\n",
    "\n",
    "df[\"months_since_orig\"] = df.apply(\n",
    "    lambda r: months_between(r.get(\"MONTHLY_REPORTING_PERIOD\"), r.get(\"ORIGINATION_DATE\")),\n",
    "    axis=1\n",
    ")\n",
    "df[\"in_first_12m\"] = df[\"months_since_orig\"].apply(lambda x: (x is not pd.NA) and (0 <= x <= 11))\n",
    "df[\"at_origination_row\"] = df[\"months_since_orig\"].apply(lambda x: x == 0)\n"
   ]
  },
  {
   "cell_type": "markdown",
   "id": "69c38c56",
   "metadata": {
    "papermill": {
     "duration": 0.003054,
     "end_time": "2025-09-11T17:08:33.283176",
     "exception": false,
     "start_time": "2025-09-11T17:08:33.280122",
     "status": "completed"
    },
    "tags": []
   },
   "source": [
    "### Label: default within 12months\n",
    "- If within months 0–11 the loan ever has 90+ DPD (CURR_DELINQ_STATUS >= '03') → default=1\n",
    "\n",
    "- Or within months 0–11, ZERO_BALANCE_CODE in {'02','03','09'} → (third-party sale, short sale, deed-in-lieu/REO) → default=1\n",
    "\n",
    "- Else default=0"
   ]
  },
  {
   "cell_type": "code",
   "execution_count": 4,
   "id": "c7af6800",
   "metadata": {
    "execution": {
     "iopub.execute_input": "2025-09-11T17:08:33.291061Z",
     "iopub.status.busy": "2025-09-11T17:08:33.290779Z",
     "iopub.status.idle": "2025-09-11T17:08:33.866839Z",
     "shell.execute_reply": "2025-09-11T17:08:33.865961Z"
    },
    "papermill": {
     "duration": 0.581823,
     "end_time": "2025-09-11T17:08:33.868336",
     "exception": false,
     "start_time": "2025-09-11T17:08:33.286513",
     "status": "completed"
    },
    "tags": []
   },
   "outputs": [
    {
     "data": {
      "text/plain": [
       "(        LOAN_ID  default_12m\n",
       " 0  000130357804            0\n",
       " 1  000130357805            0\n",
       " 2  000130357806            0\n",
       " 3  000130357807            0\n",
       " 4  000130357808            0,\n",
       " 0.0)"
      ]
     },
     "execution_count": 4,
     "metadata": {},
     "output_type": "execute_result"
    }
   ],
   "source": [
    "# --- Helpers to evaluate delinquency / ZB codes safely on strings ---\n",
    "def is_90dpd_or_more(status):\n",
    "    \"\"\"\n",
    "    status: string like '00','01','02','03','09','XX','R','  ' etc.\n",
    "    Treat invalid or special codes ('XX','  ','R') as not 90+ by default.\n",
    "    \"\"\"\n",
    "    if status is None:\n",
    "        return False\n",
    "    s = str(status).strip()\n",
    "    # quick accept for numeric 2+ digits like '10','11'\n",
    "    if s.isdigit():\n",
    "        try:\n",
    "            return int(s) >= 3\n",
    "        except Exception:\n",
    "            return False\n",
    "    return False\n",
    "\n",
    "DISTRESSED_ZB = {\"02\", \"03\", \"09\"}  # 02: Third Party Sale, 03: Short Sale, 09: Deed-in-Lieu/REO\n",
    "\n",
    "def is_distressed_zb(zb):\n",
    "    if zb is None:\n",
    "        return False\n",
    "    s = str(zb).strip()\n",
    "    return s in DISTRESSED_ZB\n",
    "\n",
    "# --- Compute label per loan over the first 12 months window ---\n",
    "mask_12m = df[\"in_first_12m\"] == True\n",
    "win = df.loc[mask_12m, [\"LOAN_ID\", \"CURR_DELINQ_STATUS\", \"ZERO_BALANCE_CODE\"]].copy()\n",
    "win[\"flag_90dpd\"] = win[\"CURR_DELINQ_STATUS\"].apply(is_90dpd_or_more)\n",
    "win[\"flag_distressed_zb\"] = win[\"ZERO_BALANCE_CODE\"].apply(is_distressed_zb)\n",
    "agg = win.groupby(\"LOAN_ID\", as_index=False)[[\"flag_90dpd\", \"flag_distressed_zb\"]].any()\n",
    "agg[\"default_12m\"] = (agg[\"flag_90dpd\"] | agg[\"flag_distressed_zb\"]).astype(int)\n",
    "agg = agg[[\"LOAN_ID\", \"default_12m\"]]\n",
    "\n",
    "agg.head(5), agg[\"default_12m\"].mean()  # quick sanity: prevalence\n"
   ]
  },
  {
   "cell_type": "markdown",
   "id": "8b8014eb",
   "metadata": {
    "papermill": {
     "duration": 0.003091,
     "end_time": "2025-09-11T17:08:33.874962",
     "exception": false,
     "start_time": "2025-09-11T17:08:33.871871",
     "status": "completed"
    },
    "tags": []
   },
   "source": [
    "### One row per loan (origination features)\n",
    "\n",
    "I take the origination row (months_since_orig == 0) as the canonical source of origination-time features."
   ]
  },
  {
   "cell_type": "code",
   "execution_count": 5,
   "id": "5d4d452f",
   "metadata": {
    "execution": {
     "iopub.execute_input": "2025-09-11T17:08:33.883015Z",
     "iopub.status.busy": "2025-09-11T17:08:33.882744Z",
     "iopub.status.idle": "2025-09-11T17:08:34.402325Z",
     "shell.execute_reply": "2025-09-11T17:08:34.401460Z"
    },
    "papermill": {
     "duration": 0.525565,
     "end_time": "2025-09-11T17:08:34.403804",
     "exception": false,
     "start_time": "2025-09-11T17:08:33.878239",
     "status": "completed"
    },
    "tags": []
   },
   "outputs": [
    {
     "data": {
      "text/plain": [
       "((11196, 21),\n",
       "           LOAN_ID ORIGINATION_DATE FIRST_PAYMENT_DATE ORIG_INTEREST_RATE  \\\n",
       " 0    000130357804          2022-01            2022-03              3.375   \n",
       " 273  000130357811          2022-01            2022-03              3.250   \n",
       " 351  000130357813          2022-01            2022-03              3.000   \n",
       " \n",
       "       ORIG_UPB ORIG_LOAN_TERM ORIG_LTV ORIG_CLTV DTI BORR_CREDIT_SCORE  ...  \\\n",
       " 0    255000.00            360       72        72  43               703  ...   \n",
       " 273  184000.00            360       80        80  35               792  ...   \n",
       " 351  447000.00            360       53        53  43               691  ...   \n",
       " \n",
       "     NUM_BORROWERS FIRST_TIME_HB_FLAG LOAN_PURPOSE PROPERTY_TYPE NUM_UNITS  \\\n",
       " 0               1                  N            P            SF         1   \n",
       " 273             1                  N            R            SF         1   \n",
       " 351             1                  N            C            PU         1   \n",
       " \n",
       "     OCCUPANCY_STATUS PROPERTY_STATE MI_PCT AMORTIZATION_TYPE CHANNEL  \n",
       " 0                  P             NV    NaN                 N       R  \n",
       " 273                P             MN    NaN                 N       R  \n",
       " 351                P             CA    NaN                 N       R  \n",
       " \n",
       " [3 rows x 21 columns])"
      ]
     },
     "execution_count": 5,
     "metadata": {},
     "output_type": "execute_result"
    }
   ],
   "source": [
    "# --- Pick origination snapshot rows ---\n",
    "orig_cols = [\n",
    "    \"LOAN_ID\",\n",
    "    \"ORIGINATION_DATE\",\n",
    "    \"FIRST_PAYMENT_DATE\",\n",
    "    \"ORIG_INTEREST_RATE\",\n",
    "    \"ORIG_UPB\",\n",
    "    \"ORIG_LOAN_TERM\",\n",
    "    \"ORIG_LTV\",\n",
    "    \"ORIG_CLTV\",\n",
    "    \"DTI\",\n",
    "    \"BORR_CREDIT_SCORE\",\n",
    "    \"CO_BORR_CREDIT_SCORE\",\n",
    "    \"NUM_BORROWERS\",\n",
    "    \"FIRST_TIME_HB_FLAG\",\n",
    "    \"LOAN_PURPOSE\",\n",
    "    \"PROPERTY_TYPE\",\n",
    "    \"NUM_UNITS\",\n",
    "    \"OCCUPANCY_STATUS\",\n",
    "    \"PROPERTY_STATE\",\n",
    "    \"MI_PCT\",\n",
    "    \"AMORTIZATION_TYPE\",\n",
    "    \"CHANNEL\",\n",
    "    # you may drop SERVICER/SELLER if you prefer\n",
    "    # \"SELLER_NAME\",\n",
    "    # \"SERVICER_NAME\",\n",
    "]\n",
    "\n",
    "orig = df.loc[df[\"at_origination_row\"] == True, orig_cols].drop_duplicates(subset=[\"LOAN_ID\"])\n",
    "orig.shape, orig.head(3)\n"
   ]
  },
  {
   "cell_type": "markdown",
   "id": "69998643",
   "metadata": {
    "papermill": {
     "duration": 0.003237,
     "end_time": "2025-09-11T17:08:34.410516",
     "exception": false,
     "start_time": "2025-09-11T17:08:34.407279",
     "status": "completed"
    },
    "tags": []
   },
   "source": [
    "### Merge features + label → final training table"
   ]
  },
  {
   "cell_type": "code",
   "execution_count": 6,
   "id": "13b9dcce",
   "metadata": {
    "execution": {
     "iopub.execute_input": "2025-09-11T17:08:34.418901Z",
     "iopub.status.busy": "2025-09-11T17:08:34.418047Z",
     "iopub.status.idle": "2025-09-11T17:08:34.504775Z",
     "shell.execute_reply": "2025-09-11T17:08:34.503568Z"
    },
    "papermill": {
     "duration": 0.092326,
     "end_time": "2025-09-11T17:08:34.506218",
     "exception": false,
     "start_time": "2025-09-11T17:08:34.413892",
     "status": "completed"
    },
    "tags": []
   },
   "outputs": [
    {
     "name": "stderr",
     "output_type": "stream",
     "text": [
      "/usr/local/lib/python3.11/dist-packages/pandas/io/formats/format.py:1458: RuntimeWarning: invalid value encountered in greater\n",
      "  has_large_values = (abs_vals > 1e6).any()\n",
      "/usr/local/lib/python3.11/dist-packages/pandas/io/formats/format.py:1459: RuntimeWarning: invalid value encountered in less\n",
      "  has_small_values = ((abs_vals < 10 ** (-self.digits)) & (abs_vals > 0)).any()\n",
      "/usr/local/lib/python3.11/dist-packages/pandas/io/formats/format.py:1459: RuntimeWarning: invalid value encountered in greater\n",
      "  has_small_values = ((abs_vals < 10 ** (-self.digits)) & (abs_vals > 0)).any()\n"
     ]
    },
    {
     "data": {
      "text/plain": [
       "((11196, 22),\n",
       "         LOAN_ID ORIGINATION_DATE FIRST_PAYMENT_DATE  ORIG_INTEREST_RATE  \\\n",
       " 0  000130357804          2022-01            2022-03               3.375   \n",
       " 1  000130357811          2022-01            2022-03               3.250   \n",
       " 2  000130357813          2022-01            2022-03               3.000   \n",
       " 3  000130357817          2022-01            2022-03               3.125   \n",
       " 4  000130357819          2022-01            2022-03               3.250   \n",
       " \n",
       "    ORIG_UPB  ORIG_LOAN_TERM  ORIG_LTV  ORIG_CLTV  DTI  BORR_CREDIT_SCORE  ...  \\\n",
       " 0  255000.0             360        72         72   43              703.0  ...   \n",
       " 1  184000.0             360        80         80   35              792.0  ...   \n",
       " 2  447000.0             360        53         53   43              691.0  ...   \n",
       " 3  147000.0             360        95         95   19              768.0  ...   \n",
       " 4  400000.0             360        42         42   28              776.0  ...   \n",
       " \n",
       "    FIRST_TIME_HB_FLAG  LOAN_PURPOSE PROPERTY_TYPE NUM_UNITS OCCUPANCY_STATUS  \\\n",
       " 0                   N             P            SF         1                P   \n",
       " 1                   N             R            SF         1                P   \n",
       " 2                   N             C            PU         1                P   \n",
       " 3                   Y             P            SF         1                P   \n",
       " 4                   Y             P            PU         1                P   \n",
       " \n",
       "    PROPERTY_STATE MI_PCT AMORTIZATION_TYPE  CHANNEL default_12m  \n",
       " 0              NV    NaN                 N        R           0  \n",
       " 1              MN    NaN                 N        R           0  \n",
       " 2              CA    NaN                 N        R           0  \n",
       " 3              MO   30.0                 N        R           0  \n",
       " 4              WA    NaN                 N        R           0  \n",
       " \n",
       " [5 rows x 22 columns])"
      ]
     },
     "execution_count": 6,
     "metadata": {},
     "output_type": "execute_result"
    }
   ],
   "source": [
    "# --- Merge label onto features (left keep: only loans with an origination row) ---\n",
    "final = orig.merge(agg, on=\"LOAN_ID\", how=\"left\")\n",
    "final[\"default_12m\"] = final[\"default_12m\"].fillna(0).astype(int)  # if no window rows, treat as 0\n",
    "\n",
    "# Optional: cast numeric-ish fields to numeric (coerce)\n",
    "num_cols = [\n",
    "    \"ORIG_INTEREST_RATE\", \"ORIG_UPB\", \"ORIG_LOAN_TERM\", \"ORIG_LTV\", \"ORIG_CLTV\",\n",
    "    \"DTI\", \"BORR_CREDIT_SCORE\", \"CO_BORR_CREDIT_SCORE\", \"NUM_BORROWERS\", \"NUM_UNITS\", \"MI_PCT\"\n",
    "]\n",
    "for c in num_cols:\n",
    "    if c in final.columns:\n",
    "        final[c] = pd.to_numeric(final[c], errors=\"coerce\")\n",
    "\n",
    "final.shape, final.head(5)\n"
   ]
  },
  {
   "cell_type": "markdown",
   "id": "15872dab",
   "metadata": {
    "papermill": {
     "duration": 0.003348,
     "end_time": "2025-09-11T17:08:34.513342",
     "exception": false,
     "start_time": "2025-09-11T17:08:34.509994",
     "status": "completed"
    },
    "tags": []
   },
   "source": [
    "### Save CSV"
   ]
  },
  {
   "cell_type": "code",
   "execution_count": 7,
   "id": "a3008b85",
   "metadata": {
    "execution": {
     "iopub.execute_input": "2025-09-11T17:08:34.522909Z",
     "iopub.status.busy": "2025-09-11T17:08:34.521502Z",
     "iopub.status.idle": "2025-09-11T17:08:34.641039Z",
     "shell.execute_reply": "2025-09-11T17:08:34.639952Z"
    },
    "papermill": {
     "duration": 0.125826,
     "end_time": "2025-09-11T17:08:34.642747",
     "exception": false,
     "start_time": "2025-09-11T17:08:34.516921",
     "status": "completed"
    },
    "tags": []
   },
   "outputs": [
    {
     "data": {
      "text/plain": [
       "('/kaggle/working/fannie_q1_2022_labeled.csv',\n",
       " default_12m\n",
       " 0    11196\n",
       " Name: count, dtype: int64)"
      ]
     },
     "execution_count": 7,
     "metadata": {},
     "output_type": "execute_result"
    }
   ],
   "source": [
    "out_path = \"/kaggle/working/fannie_q1_2022_labeled.csv\"\n",
    "final.to_csv(out_path, index=False)\n",
    "out_path, final[\"default_12m\"].value_counts(dropna=False)\n"
   ]
  }
 ],
 "metadata": {
  "kaggle": {
   "accelerator": "none",
   "dataSources": [
    {
     "datasetId": 8250590,
     "sourceId": 13030186,
     "sourceType": "datasetVersion"
    }
   ],
   "dockerImageVersionId": 31089,
   "isGpuEnabled": false,
   "isInternetEnabled": true,
   "language": "python",
   "sourceType": "notebook"
  },
  "kernelspec": {
   "display_name": "Python 3",
   "language": "python",
   "name": "python3"
  },
  "language_info": {
   "codemirror_mode": {
    "name": "ipython",
    "version": 3
   },
   "file_extension": ".py",
   "mimetype": "text/x-python",
   "name": "python",
   "nbconvert_exporter": "python",
   "pygments_lexer": "ipython3",
   "version": "3.11.13"
  },
  "papermill": {
   "default_parameters": {},
   "duration": 546.180394,
   "end_time": "2025-09-11T17:08:36.672719",
   "environment_variables": {},
   "exception": null,
   "input_path": "__notebook__.ipynb",
   "output_path": "__notebook__.ipynb",
   "parameters": {},
   "start_time": "2025-09-11T16:59:30.492325",
   "version": "2.6.0"
  }
 },
 "nbformat": 4,
 "nbformat_minor": 5
}
