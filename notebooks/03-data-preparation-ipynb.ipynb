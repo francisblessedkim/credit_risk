{
 "cells": [
  {
   "cell_type": "markdown",
   "id": "ca99ad17",
   "metadata": {
    "papermill": {
     "duration": 0.004357,
     "end_time": "2025-10-06T17:21:15.692586",
     "exception": false,
     "start_time": "2025-10-06T17:21:15.688229",
     "status": "completed"
    },
    "tags": []
   },
   "source": [
    "# Stage 6: Data Preparation — Credit Risk Modeling (Q1 2022)\n",
    "\n",
    "This notebook prepares the Fannie Mae Q1 2022 loan-level dataset for modeling.\n",
    "\n",
    "It produces TWO artifacts:\n",
    "- **fannie_q1_2022_raw_clean.csv**: imputed, robust categorical mappings, raw numeric values preserved, and a proxy label created on raw values.\n",
    "- **fannie_q1_2022_model_ready.csv**: one-hot encoded and scaled features, ready for modeling, includes the proxy label.\n",
    "\n",
    "Key steps:\n",
    "1) Load raw labeled Q1 dataset\n",
    "2) Replace blanks → NaN; inspect dtypes, missingness, cardinality\n",
    "3) Impute numeric & categorical; robust mappings (no NaNs from mapping)\n",
    "4) Create proxy label on RAW values (NOT on scaled)\n",
    "5) One-hot encode categoricals; scale numeric\n",
    "6) Save both artifacts with sanity checks\n"
   ]
  },
  {
   "cell_type": "code",
   "execution_count": 1,
   "id": "a8681ff6",
   "metadata": {
    "execution": {
     "iopub.execute_input": "2025-10-06T17:21:15.701541Z",
     "iopub.status.busy": "2025-10-06T17:21:15.701181Z",
     "iopub.status.idle": "2025-10-06T17:21:20.587693Z",
     "shell.execute_reply": "2025-10-06T17:21:20.586699Z"
    },
    "papermill": {
     "duration": 4.893023,
     "end_time": "2025-10-06T17:21:20.589539",
     "exception": false,
     "start_time": "2025-10-06T17:21:15.696516",
     "status": "completed"
    },
    "tags": []
   },
   "outputs": [
    {
     "data": {
      "text/plain": [
       "('/kaggle/input/fannie-q1-2022-labeled/fannie_q1_2022_labeled.csv',\n",
       " '/kaggle/working')"
      ]
     },
     "execution_count": 1,
     "metadata": {},
     "output_type": "execute_result"
    }
   ],
   "source": [
    "import os\n",
    "import numpy as np\n",
    "import pandas as pd\n",
    "\n",
    "import matplotlib.pyplot as plt\n",
    "import seaborn as sns\n",
    "\n",
    "from sklearn.preprocessing import StandardScaler\n",
    "from sklearn.compose import ColumnTransformer\n",
    "from sklearn.pipeline import Pipeline\n",
    "\n",
    "pd.set_option('display.max_columns', None)\n",
    "pd.set_option('display.float_format', lambda x: f'{x:.2f}')\n",
    "\n",
    "# Prefer mounted Kaggle input\n",
    "RAW_CANDIDATE_PATHS = [\n",
    "    \"/kaggle/input/fannie-q1-2022-labeled/fannie_q1_2022_labeled.csv\",\n",
    "    \"/kaggle/working/fannie_q1_2022_labeled.csv\"\n",
    "]\n",
    "\n",
    "def first_existing_path(paths):\n",
    "    for p in paths:\n",
    "        if os.path.exists(p):\n",
    "            return p\n",
    "    raise FileNotFoundError(\"Raw labeled CSV not found in expected locations.\")\n",
    "\n",
    "RAW_DATA_PATH = first_existing_path(RAW_CANDIDATE_PATHS)\n",
    "OUTPUT_DIR = \"/kaggle/working\"\n",
    "os.makedirs(OUTPUT_DIR, exist_ok=True)\n",
    "\n",
    "RAW_DATA_PATH, OUTPUT_DIR\n"
   ]
  },
  {
   "cell_type": "markdown",
   "id": "245beb85",
   "metadata": {
    "papermill": {
     "duration": 0.00343,
     "end_time": "2025-10-06T17:21:20.596828",
     "exception": false,
     "start_time": "2025-10-06T17:21:20.593398",
     "status": "completed"
    },
    "tags": []
   },
   "source": [
    "#### Load Dataset"
   ]
  },
  {
   "cell_type": "code",
   "execution_count": 2,
   "id": "accc5f18",
   "metadata": {
    "execution": {
     "iopub.execute_input": "2025-10-06T17:21:20.606046Z",
     "iopub.status.busy": "2025-10-06T17:21:20.605597Z",
     "iopub.status.idle": "2025-10-06T17:21:20.792060Z",
     "shell.execute_reply": "2025-10-06T17:21:20.790926Z"
    },
    "papermill": {
     "duration": 0.193154,
     "end_time": "2025-10-06T17:21:20.793967",
     "exception": false,
     "start_time": "2025-10-06T17:21:20.600813",
     "status": "completed"
    },
    "tags": []
   },
   "outputs": [
    {
     "name": "stdout",
     "output_type": "stream",
     "text": [
      "Initial shape: (11196, 22)\n"
     ]
    },
    {
     "data": {
      "text/html": [
       "<div>\n",
       "<style scoped>\n",
       "    .dataframe tbody tr th:only-of-type {\n",
       "        vertical-align: middle;\n",
       "    }\n",
       "\n",
       "    .dataframe tbody tr th {\n",
       "        vertical-align: top;\n",
       "    }\n",
       "\n",
       "    .dataframe thead th {\n",
       "        text-align: right;\n",
       "    }\n",
       "</style>\n",
       "<table border=\"1\" class=\"dataframe\">\n",
       "  <thead>\n",
       "    <tr style=\"text-align: right;\">\n",
       "      <th></th>\n",
       "      <th>LOAN_ID</th>\n",
       "      <th>ORIGINATION_DATE</th>\n",
       "      <th>FIRST_PAYMENT_DATE</th>\n",
       "      <th>ORIG_INTEREST_RATE</th>\n",
       "      <th>ORIG_UPB</th>\n",
       "      <th>ORIG_LOAN_TERM</th>\n",
       "      <th>ORIG_LTV</th>\n",
       "      <th>ORIG_CLTV</th>\n",
       "      <th>DTI</th>\n",
       "      <th>BORR_CREDIT_SCORE</th>\n",
       "      <th>CO_BORR_CREDIT_SCORE</th>\n",
       "      <th>NUM_BORROWERS</th>\n",
       "      <th>FIRST_TIME_HB_FLAG</th>\n",
       "      <th>LOAN_PURPOSE</th>\n",
       "      <th>PROPERTY_TYPE</th>\n",
       "      <th>NUM_UNITS</th>\n",
       "      <th>OCCUPANCY_STATUS</th>\n",
       "      <th>PROPERTY_STATE</th>\n",
       "      <th>MI_PCT</th>\n",
       "      <th>AMORTIZATION_TYPE</th>\n",
       "      <th>CHANNEL</th>\n",
       "      <th>default_12m</th>\n",
       "    </tr>\n",
       "  </thead>\n",
       "  <tbody>\n",
       "    <tr>\n",
       "      <th>0</th>\n",
       "      <td>130357804</td>\n",
       "      <td>2022-01</td>\n",
       "      <td>2022-03</td>\n",
       "      <td>3.38</td>\n",
       "      <td>255000.00</td>\n",
       "      <td>360</td>\n",
       "      <td>72</td>\n",
       "      <td>72</td>\n",
       "      <td>43</td>\n",
       "      <td>703.00</td>\n",
       "      <td>NaN</td>\n",
       "      <td>1</td>\n",
       "      <td>N</td>\n",
       "      <td>P</td>\n",
       "      <td>SF</td>\n",
       "      <td>1</td>\n",
       "      <td>P</td>\n",
       "      <td>NV</td>\n",
       "      <td>NaN</td>\n",
       "      <td>N</td>\n",
       "      <td>R</td>\n",
       "      <td>0</td>\n",
       "    </tr>\n",
       "    <tr>\n",
       "      <th>1</th>\n",
       "      <td>130357811</td>\n",
       "      <td>2022-01</td>\n",
       "      <td>2022-03</td>\n",
       "      <td>3.25</td>\n",
       "      <td>184000.00</td>\n",
       "      <td>360</td>\n",
       "      <td>80</td>\n",
       "      <td>80</td>\n",
       "      <td>35</td>\n",
       "      <td>792.00</td>\n",
       "      <td>NaN</td>\n",
       "      <td>1</td>\n",
       "      <td>N</td>\n",
       "      <td>R</td>\n",
       "      <td>SF</td>\n",
       "      <td>1</td>\n",
       "      <td>P</td>\n",
       "      <td>MN</td>\n",
       "      <td>NaN</td>\n",
       "      <td>N</td>\n",
       "      <td>R</td>\n",
       "      <td>0</td>\n",
       "    </tr>\n",
       "    <tr>\n",
       "      <th>2</th>\n",
       "      <td>130357813</td>\n",
       "      <td>2022-01</td>\n",
       "      <td>2022-03</td>\n",
       "      <td>3.00</td>\n",
       "      <td>447000.00</td>\n",
       "      <td>360</td>\n",
       "      <td>53</td>\n",
       "      <td>53</td>\n",
       "      <td>43</td>\n",
       "      <td>691.00</td>\n",
       "      <td>NaN</td>\n",
       "      <td>1</td>\n",
       "      <td>N</td>\n",
       "      <td>C</td>\n",
       "      <td>PU</td>\n",
       "      <td>1</td>\n",
       "      <td>P</td>\n",
       "      <td>CA</td>\n",
       "      <td>NaN</td>\n",
       "      <td>N</td>\n",
       "      <td>R</td>\n",
       "      <td>0</td>\n",
       "    </tr>\n",
       "  </tbody>\n",
       "</table>\n",
       "</div>"
      ],
      "text/plain": [
       "     LOAN_ID ORIGINATION_DATE FIRST_PAYMENT_DATE  ORIG_INTEREST_RATE  \\\n",
       "0  130357804          2022-01            2022-03                3.38   \n",
       "1  130357811          2022-01            2022-03                3.25   \n",
       "2  130357813          2022-01            2022-03                3.00   \n",
       "\n",
       "   ORIG_UPB  ORIG_LOAN_TERM  ORIG_LTV  ORIG_CLTV  DTI  BORR_CREDIT_SCORE  \\\n",
       "0 255000.00             360        72         72   43             703.00   \n",
       "1 184000.00             360        80         80   35             792.00   \n",
       "2 447000.00             360        53         53   43             691.00   \n",
       "\n",
       "   CO_BORR_CREDIT_SCORE  NUM_BORROWERS FIRST_TIME_HB_FLAG LOAN_PURPOSE  \\\n",
       "0                   NaN              1                  N            P   \n",
       "1                   NaN              1                  N            R   \n",
       "2                   NaN              1                  N            C   \n",
       "\n",
       "  PROPERTY_TYPE  NUM_UNITS OCCUPANCY_STATUS PROPERTY_STATE  MI_PCT  \\\n",
       "0            SF          1                P             NV     NaN   \n",
       "1            SF          1                P             MN     NaN   \n",
       "2            PU          1                P             CA     NaN   \n",
       "\n",
       "  AMORTIZATION_TYPE CHANNEL  default_12m  \n",
       "0                 N       R            0  \n",
       "1                 N       R            0  \n",
       "2                 N       R            0  "
      ]
     },
     "metadata": {},
     "output_type": "display_data"
    },
    {
     "name": "stdout",
     "output_type": "stream",
     "text": [
      "\n",
      "Info:\n",
      "<class 'pandas.core.frame.DataFrame'>\n",
      "RangeIndex: 11196 entries, 0 to 11195\n",
      "Data columns (total 22 columns):\n",
      " #   Column                Non-Null Count  Dtype  \n",
      "---  ------                --------------  -----  \n",
      " 0   LOAN_ID               11196 non-null  int64  \n",
      " 1   ORIGINATION_DATE      11196 non-null  object \n",
      " 2   FIRST_PAYMENT_DATE    11196 non-null  object \n",
      " 3   ORIG_INTEREST_RATE    11196 non-null  float64\n",
      " 4   ORIG_UPB              11196 non-null  float64\n",
      " 5   ORIG_LOAN_TERM        11196 non-null  int64  \n",
      " 6   ORIG_LTV              11196 non-null  int64  \n",
      " 7   ORIG_CLTV             11196 non-null  int64  \n",
      " 8   DTI                   11196 non-null  int64  \n",
      " 9   BORR_CREDIT_SCORE     11181 non-null  float64\n",
      " 10  CO_BORR_CREDIT_SCORE  4779 non-null   float64\n",
      " 11  NUM_BORROWERS         11196 non-null  int64  \n",
      " 12  FIRST_TIME_HB_FLAG    11196 non-null  object \n",
      " 13  LOAN_PURPOSE          11196 non-null  object \n",
      " 14  PROPERTY_TYPE         11196 non-null  object \n",
      " 15  NUM_UNITS             11196 non-null  int64  \n",
      " 16  OCCUPANCY_STATUS      11196 non-null  object \n",
      " 17  PROPERTY_STATE        11196 non-null  object \n",
      " 18  MI_PCT                2469 non-null   float64\n",
      " 19  AMORTIZATION_TYPE     11196 non-null  object \n",
      " 20  CHANNEL               11196 non-null  object \n",
      " 21  default_12m           11196 non-null  int64  \n",
      "dtypes: float64(5), int64(8), object(9)\n",
      "memory usage: 1.9+ MB\n",
      "\n",
      "Missing values (top):\n"
     ]
    },
    {
     "data": {
      "text/plain": [
       "MI_PCT                  8727\n",
       "CO_BORR_CREDIT_SCORE    6417\n",
       "BORR_CREDIT_SCORE         15\n",
       "LOAN_ID                    0\n",
       "FIRST_TIME_HB_FLAG         0\n",
       "CHANNEL                    0\n",
       "AMORTIZATION_TYPE          0\n",
       "PROPERTY_STATE             0\n",
       "OCCUPANCY_STATUS           0\n",
       "NUM_UNITS                  0\n",
       "PROPERTY_TYPE              0\n",
       "LOAN_PURPOSE               0\n",
       "NUM_BORROWERS              0\n",
       "ORIGINATION_DATE           0\n",
       "DTI                        0\n",
       "dtype: int64"
      ]
     },
     "metadata": {},
     "output_type": "display_data"
    },
    {
     "name": "stdout",
     "output_type": "stream",
     "text": [
      "\n",
      "Cardinality (top):\n"
     ]
    },
    {
     "data": {
      "text/plain": [
       "LOAN_ID                 11196\n",
       "ORIG_UPB                  746\n",
       "ORIG_INTEREST_RATE        313\n",
       "BORR_CREDIT_SCORE         220\n",
       "CO_BORR_CREDIT_SCORE      218\n",
       "ORIG_CLTV                  95\n",
       "ORIG_LTV                   91\n",
       "DTI                        52\n",
       "PROPERTY_STATE             52\n",
       "ORIG_LOAN_TERM             35\n",
       "MI_PCT                      8\n",
       "PROPERTY_TYPE               5\n",
       "NUM_UNITS                   4\n",
       "NUM_BORROWERS               4\n",
       "LOAN_PURPOSE                3\n",
       "dtype: int64"
      ]
     },
     "metadata": {},
     "output_type": "display_data"
    }
   ],
   "source": [
    "df = pd.read_csv(RAW_DATA_PATH)\n",
    "print(\"Initial shape:\", df.shape)\n",
    "display(df.head(3))\n",
    "\n",
    "# Replace blank strings with NaN for a fair missingness audit\n",
    "df = df.replace('', np.nan)\n",
    "\n",
    "print(\"\\nInfo:\")\n",
    "df.info()\n",
    "\n",
    "print(\"\\nMissing values (top):\")\n",
    "display(df.isna().sum().sort_values(ascending=False).head(15))\n",
    "\n",
    "print(\"\\nCardinality (top):\")\n",
    "display(df.nunique().sort_values(ascending=False).head(15))\n"
   ]
  },
  {
   "cell_type": "markdown",
   "id": "82351370",
   "metadata": {
    "papermill": {
     "duration": 0.005282,
     "end_time": "2025-10-06T17:21:20.804274",
     "exception": false,
     "start_time": "2025-10-06T17:21:20.798992",
     "status": "completed"
    },
    "tags": []
   },
   "source": [
    "#### Basic Cleaning Decisions"
   ]
  },
  {
   "cell_type": "code",
   "execution_count": 3,
   "id": "874375d9",
   "metadata": {
    "execution": {
     "iopub.execute_input": "2025-10-06T17:21:20.816441Z",
     "iopub.status.busy": "2025-10-06T17:21:20.815348Z",
     "iopub.status.idle": "2025-10-06T17:21:20.832103Z",
     "shell.execute_reply": "2025-10-06T17:21:20.830816Z"
    },
    "papermill": {
     "duration": 0.025009,
     "end_time": "2025-10-06T17:21:20.834084",
     "exception": false,
     "start_time": "2025-10-06T17:21:20.809075",
     "status": "completed"
    },
    "tags": []
   },
   "outputs": [],
   "source": [
    "df = df.copy()\n",
    "\n",
    "# Drop sparse/unhelpful columns\n",
    "cols_to_drop = []\n",
    "if 'MI_PCT' in df.columns:\n",
    "    # ~78% missing in your sample; drop\n",
    "    cols_to_drop.append('MI_PCT')\n",
    "\n",
    "df.drop(columns=cols_to_drop, inplace=True, errors='ignore')\n",
    "\n",
    "# Co-borrower presence flag (before imputation)\n",
    "if 'CO_BORR_CREDIT_SCORE' in df.columns:\n",
    "    df['CO_BORR_PRESENT'] = (~df['CO_BORR_CREDIT_SCORE'].isna()).astype(int)\n",
    "else:\n",
    "    df['CO_BORR_PRESENT'] = 0  # fallback if column is absent\n",
    "\n",
    "# Dates: keep for now (raw artifact will retain them)\n",
    "date_cols = [c for c in ['ORIGINATION_DATE', 'FIRST_PAYMENT_DATE'] if c in df.columns]\n"
   ]
  },
  {
   "cell_type": "markdown",
   "id": "9275e913",
   "metadata": {
    "papermill": {
     "duration": 0.004061,
     "end_time": "2025-10-06T17:21:20.842571",
     "exception": false,
     "start_time": "2025-10-06T17:21:20.838510",
     "status": "completed"
    },
    "tags": []
   },
   "source": [
    "#### Numerical & Categorical imputation"
   ]
  },
  {
   "cell_type": "code",
   "execution_count": 4,
   "id": "977c359c",
   "metadata": {
    "execution": {
     "iopub.execute_input": "2025-10-06T17:21:20.856178Z",
     "iopub.status.busy": "2025-10-06T17:21:20.855827Z",
     "iopub.status.idle": "2025-10-06T17:21:20.891700Z",
     "shell.execute_reply": "2025-10-06T17:21:20.890476Z"
    },
    "papermill": {
     "duration": 0.045625,
     "end_time": "2025-10-06T17:21:20.893519",
     "exception": false,
     "start_time": "2025-10-06T17:21:20.847894",
     "status": "completed"
    },
    "tags": []
   },
   "outputs": [
    {
     "data": {
      "text/plain": [
       "LOAN_ID              0\n",
       "ORIGINATION_DATE     0\n",
       "default_12m          0\n",
       "CHANNEL              0\n",
       "AMORTIZATION_TYPE    0\n",
       "PROPERTY_STATE       0\n",
       "OCCUPANCY_STATUS     0\n",
       "NUM_UNITS            0\n",
       "PROPERTY_TYPE        0\n",
       "LOAN_PURPOSE         0\n",
       "dtype: int64"
      ]
     },
     "execution_count": 4,
     "metadata": {},
     "output_type": "execute_result"
    }
   ],
   "source": [
    "# Identify core numeric columns \n",
    "numeric_cols = [c for c in [\n",
    "    'ORIG_INTEREST_RATE','ORIG_UPB','ORIG_LOAN_TERM','ORIG_LTV','ORIG_CLTV',\n",
    "    'DTI','BORR_CREDIT_SCORE','CO_BORR_CREDIT_SCORE','NUM_BORROWERS','NUM_UNITS'\n",
    "] if c in df.columns]\n",
    "\n",
    "# Impute borrower credit score (median)\n",
    "if 'BORR_CREDIT_SCORE' in df.columns:\n",
    "    borr_med = df['BORR_CREDIT_SCORE'].median()\n",
    "    df['BORR_CREDIT_SCORE'] = df['BORR_CREDIT_SCORE'].fillna(borr_med)\n",
    "\n",
    "# Impute co-borrower: use borrower’s score first, then borrower median as backup\n",
    "if 'CO_BORR_CREDIT_SCORE' in df.columns:\n",
    "    df['CO_BORR_CREDIT_SCORE'] = df['CO_BORR_CREDIT_SCORE'].fillna(df['BORR_CREDIT_SCORE'])\n",
    "    df['CO_BORR_CREDIT_SCORE'] = df['CO_BORR_CREDIT_SCORE'].fillna(borr_med)\n",
    "\n",
    "# Impute common numeric fields by median\n",
    "for col in numeric_cols:\n",
    "    if df[col].isna().any():\n",
    "        df[col] = df[col].fillna(df[col].median())\n",
    "\n",
    "# Robust categorical mappings (no NaNs from mapping)\n",
    "# FIRST_TIME_HB_FLAG: map to 0/1; default to 0 when unknown\n",
    "if 'FIRST_TIME_HB_FLAG' in df.columns:\n",
    "    df['FIRST_TIME_HB_FLAG'] = df['FIRST_TIME_HB_FLAG'].map({'Y':1, 'N':0}).fillna(0).astype(int)\n",
    "\n",
    "# AMORTIZATION_TYPE: F (Fixed)=1, A (ARM)=0; default to 1 if unknown\n",
    "if 'AMORTIZATION_TYPE' in df.columns:\n",
    "    df['AMORTIZATION_TYPE'] = df['AMORTIZATION_TYPE'].map({'F':1, 'A':0}).fillna(1).astype(int)\n",
    "\n",
    "# Fill remaining categorical NaNs with mode (defensive)\n",
    "cat_cols = [c for c in [\n",
    "    'LOAN_PURPOSE','PROPERTY_TYPE','OCCUPANCY_STATUS','PROPERTY_STATE',\n",
    "    'CHANNEL'\n",
    "] if c in df.columns]\n",
    "\n",
    "for c in cat_cols:\n",
    "    if df[c].isna().any():\n",
    "        df[c] = df[c].fillna(df[c].mode().iloc[0])\n",
    "\n",
    "# Final missingness check (pre-proxy, pre-encoding)\n",
    "df.isna().sum().sort_values(ascending=False).head(10)\n"
   ]
  },
  {
   "cell_type": "markdown",
   "id": "f18123a3",
   "metadata": {
    "papermill": {
     "duration": 0.00446,
     "end_time": "2025-10-06T17:21:20.902830",
     "exception": false,
     "start_time": "2025-10-06T17:21:20.898370",
     "status": "completed"
    },
    "tags": []
   },
   "source": [
    "#### Proxy Label on RAW Values"
   ]
  },
  {
   "cell_type": "code",
   "execution_count": 5,
   "id": "ba48c8f2",
   "metadata": {
    "execution": {
     "iopub.execute_input": "2025-10-06T17:21:20.914155Z",
     "iopub.status.busy": "2025-10-06T17:21:20.913494Z",
     "iopub.status.idle": "2025-10-06T17:21:20.928627Z",
     "shell.execute_reply": "2025-10-06T17:21:20.927178Z"
    },
    "papermill": {
     "duration": 0.022191,
     "end_time": "2025-10-06T17:21:20.930136",
     "exception": false,
     "start_time": "2025-10-06T17:21:20.907945",
     "status": "completed"
    },
    "tags": []
   },
   "outputs": [
    {
     "name": "stdout",
     "output_type": "stream",
     "text": [
      "Proxy counts:\n",
      "high_risk_proxy\n",
      "0    7920\n",
      "1    3276\n",
      "Name: count, dtype: int64\n",
      "Proxy rate: 0.29260450160771706\n"
     ]
    }
   ],
   "source": [
    "# Create proxy label using real-world thresholds on RAW (unscaled) values\n",
    "required = ['BORR_CREDIT_SCORE','DTI','ORIG_LTV']\n",
    "missing_req = [c for c in required if c not in df.columns]\n",
    "if missing_req:\n",
    "    raise ValueError(f\"Missing required columns for proxy label: {missing_req}\")\n",
    "\n",
    "df['high_risk_proxy'] = (\n",
    "    (df['BORR_CREDIT_SCORE'] < 660) |\n",
    "    (df['DTI'] > 45) |\n",
    "    (df['ORIG_LTV'] > 90)\n",
    ").astype(int)\n",
    "\n",
    "print(\"Proxy counts:\")\n",
    "print(df['high_risk_proxy'].value_counts())\n",
    "print(\"Proxy rate:\", df['high_risk_proxy'].mean())\n",
    "assert df['high_risk_proxy'].nunique() == 2, \"Proxy is single-class; check thresholds.\"\n"
   ]
  },
  {
   "cell_type": "markdown",
   "id": "9b2ffee1",
   "metadata": {
    "papermill": {
     "duration": 0.005018,
     "end_time": "2025-10-06T17:21:20.939707",
     "exception": false,
     "start_time": "2025-10-06T17:21:20.934689",
     "status": "completed"
    },
    "tags": []
   },
   "source": [
    "#### Save RAW"
   ]
  },
  {
   "cell_type": "code",
   "execution_count": 6,
   "id": "a1c8c895",
   "metadata": {
    "execution": {
     "iopub.execute_input": "2025-10-06T17:21:20.949788Z",
     "iopub.status.busy": "2025-10-06T17:21:20.949466Z",
     "iopub.status.idle": "2025-10-06T17:21:21.064471Z",
     "shell.execute_reply": "2025-10-06T17:21:21.063068Z"
    },
    "papermill": {
     "duration": 0.122104,
     "end_time": "2025-10-06T17:21:21.066265",
     "exception": false,
     "start_time": "2025-10-06T17:21:20.944161",
     "status": "completed"
    },
    "tags": []
   },
   "outputs": [
    {
     "name": "stdout",
     "output_type": "stream",
     "text": [
      "Saved RAW-CLEAN: /kaggle/working/fannie_q1_2022_raw_clean.csv\n"
     ]
    }
   ],
   "source": [
    "raw_cols_order = df.columns.tolist()  \n",
    "df_raw_clean = df[raw_cols_order].copy()\n",
    "\n",
    "raw_out = os.path.join(OUTPUT_DIR, \"fannie_q1_2022_raw_clean.csv\")\n",
    "df_raw_clean.to_csv(raw_out, index=False)\n",
    "print(\"Saved RAW-CLEAN:\", raw_out)\n"
   ]
  },
  {
   "cell_type": "markdown",
   "id": "4f49497f",
   "metadata": {
    "papermill": {
     "duration": 0.004409,
     "end_time": "2025-10-06T17:21:21.077365",
     "exception": false,
     "start_time": "2025-10-06T17:21:21.072956",
     "status": "completed"
    },
    "tags": []
   },
   "source": [
    "#### Build model ready: Encode + Scale(no dates, no ID's)"
   ]
  },
  {
   "cell_type": "code",
   "execution_count": 7,
   "id": "c492f17f",
   "metadata": {
    "execution": {
     "iopub.execute_input": "2025-10-06T17:21:21.089401Z",
     "iopub.status.busy": "2025-10-06T17:21:21.088385Z",
     "iopub.status.idle": "2025-10-06T17:21:21.161109Z",
     "shell.execute_reply": "2025-10-06T17:21:21.159715Z"
    },
    "papermill": {
     "duration": 0.080434,
     "end_time": "2025-10-06T17:21:21.162899",
     "exception": false,
     "start_time": "2025-10-06T17:21:21.082465",
     "status": "completed"
    },
    "tags": []
   },
   "outputs": [
    {
     "name": "stdout",
     "output_type": "stream",
     "text": [
      "Model-ready shape: (11196, 76)\n"
     ]
    }
   ],
   "source": [
    "# Drop date strings from modeling set\n",
    "df_model = df.drop(columns=date_cols, errors='ignore').copy()\n",
    "\n",
    "# Drop ID columns from features \n",
    "id_cols = [c for c in ['LOAN_ID'] if c in df_model.columns]\n",
    "# Target name\n",
    "TARGET = 'high_risk_proxy'\n",
    "\n",
    "# Split feature groups\n",
    "y = df_model[TARGET].astype(int)\n",
    "X = df_model.drop(columns=[TARGET] + id_cols, errors='ignore')\n",
    "\n",
    "# Identify categorical columns for one-hot\n",
    "ohe_cols = [c for c in [\n",
    "    'LOAN_PURPOSE','PROPERTY_TYPE','OCCUPANCY_STATUS','PROPERTY_STATE','CHANNEL',\n",
    "    # engineered buckets could be added if you created them upstream\n",
    "] if c in X.columns]\n",
    "\n",
    "num_cols = [c for c in X.columns if c not in ohe_cols]\n",
    "\n",
    "# One-hot encode categoricals, drop first to avoid multicollinearity\n",
    "X_ohe = pd.get_dummies(X, columns=ohe_cols, drop_first=True)\n",
    "\n",
    "# Scale numeric columns only\n",
    "scaler = StandardScaler()\n",
    "num_cols_in_ohe = [c for c in num_cols if c in X_ohe.columns]\n",
    "\n",
    "X_ohe[num_cols_in_ohe] = scaler.fit_transform(X_ohe[num_cols_in_ohe])\n",
    "\n",
    "# Reassemble final modeling frame\n",
    "df_model_ready = pd.concat([X_ohe, y], axis=1)\n",
    "\n",
    "# Final sanity checks\n",
    "assert not df_model_ready.isna().any().any(), \"NaNs remain in model-ready output\"\n",
    "assert TARGET in df_model_ready.columns, \"Target missing from model-ready\"\n",
    "print(\"Model-ready shape:\", df_model_ready.shape)\n"
   ]
  },
  {
   "cell_type": "markdown",
   "id": "ac4f14bc",
   "metadata": {
    "papermill": {
     "duration": 0.004218,
     "end_time": "2025-10-06T17:21:21.171841",
     "exception": false,
     "start_time": "2025-10-06T17:21:21.167623",
     "status": "completed"
    },
    "tags": []
   },
   "source": [
    "#### Save Model-Ready Artifact"
   ]
  },
  {
   "cell_type": "code",
   "execution_count": 8,
   "id": "053a35f3",
   "metadata": {
    "execution": {
     "iopub.execute_input": "2025-10-06T17:21:21.182966Z",
     "iopub.status.busy": "2025-10-06T17:21:21.182623Z",
     "iopub.status.idle": "2025-10-06T17:21:21.632338Z",
     "shell.execute_reply": "2025-10-06T17:21:21.631151Z"
    },
    "papermill": {
     "duration": 0.457971,
     "end_time": "2025-10-06T17:21:21.634217",
     "exception": false,
     "start_time": "2025-10-06T17:21:21.176246",
     "status": "completed"
    },
    "tags": []
   },
   "outputs": [
    {
     "name": "stdout",
     "output_type": "stream",
     "text": [
      "Saved MODEL-READY: /kaggle/working/fannie_q1_2022_model_ready.csv\n"
     ]
    }
   ],
   "source": [
    "model_out = os.path.join(OUTPUT_DIR, \"fannie_q1_2022_model_ready.csv\")\n",
    "df_model_ready.to_csv(model_out, index=False)\n",
    "print(\"Saved MODEL-READY:\", model_out)\n"
   ]
  }
 ],
 "metadata": {
  "kaggle": {
   "accelerator": "none",
   "dataSources": [
    {
     "datasetId": 8251440,
     "sourceId": 13031432,
     "sourceType": "datasetVersion"
    }
   ],
   "dockerImageVersionId": 31089,
   "isGpuEnabled": false,
   "isInternetEnabled": true,
   "language": "python",
   "sourceType": "notebook"
  },
  "kernelspec": {
   "display_name": "Python 3",
   "language": "python",
   "name": "python3"
  },
  "language_info": {
   "codemirror_mode": {
    "name": "ipython",
    "version": 3
   },
   "file_extension": ".py",
   "mimetype": "text/x-python",
   "name": "python",
   "nbconvert_exporter": "python",
   "pygments_lexer": "ipython3",
   "version": "3.11.13"
  },
  "papermill": {
   "default_parameters": {},
   "duration": 13.145307,
   "end_time": "2025-10-06T17:21:22.259636",
   "environment_variables": {},
   "exception": null,
   "input_path": "__notebook__.ipynb",
   "output_path": "__notebook__.ipynb",
   "parameters": {},
   "start_time": "2025-10-06T17:21:09.114329",
   "version": "2.6.0"
  }
 },
 "nbformat": 4,
 "nbformat_minor": 5
}
